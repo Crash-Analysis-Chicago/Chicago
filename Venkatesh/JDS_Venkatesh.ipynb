{
  "nbformat": 4,
  "nbformat_minor": 0,
  "metadata": {
    "colab": {
      "name": "JDS- Venkatesh.ipynb",
      "provenance": [],
      "collapsed_sections": [],
      "authorship_tag": "ABX9TyOaWnDJdcX7X24Wqx55yTUU",
      "include_colab_link": true
    },
    "kernelspec": {
      "name": "python3",
      "display_name": "Python 3"
    }
  },
  "cells": [
    {
      "cell_type": "markdown",
      "metadata": {
        "id": "view-in-github",
        "colab_type": "text"
      },
      "source": [
        "<a href=\"https://colab.research.google.com/github/Crash-Analysis-Chicago/Chicago/blob/main/Venkatesh/JDS_Venkatesh.ipynb\" target=\"_parent\"><img src=\"https://colab.research.google.com/assets/colab-badge.svg\" alt=\"Open In Colab\"/></a>"
      ]
    },
    {
      "cell_type": "code",
      "metadata": {
        "id": "64MObOxnSEwi"
      },
      "source": [
        "import pandas as pd\n",
        "import matplotlib.pyplot as plt\n",
        "import numpy as np\n",
        "from bs4 import BeautifulSoup, SoupStrainer\n",
        "import requests"
      ],
      "execution_count": 341,
      "outputs": []
    },
    {
      "cell_type": "code",
      "metadata": {
        "id": "ZLsJWS7r65vj",
        "outputId": "ab5c5187-480a-4b81-fdb5-bfbb6e34d0e9",
        "colab": {
          "base_uri": "https://localhost:8080/"
        }
      },
      "source": [
        "from google.colab import drive\n",
        "drive.mount('../content/drive/')\n",
        " \n",
        "\n",
        "# colab demande de 'uploader' le dataset pour chaque démarrage. Pour utiliser donc facilement le dataset, uploadez le dataset sur Google Drive.\n",
        "# pour bien réussir cela, suivez les étape ci-dessous\n",
        "# étape 1: créez un dossier appelé 'Projet-JDS' ou comme vous voulez sur Google Drive et deposez le dataset dans ce dossier \n",
        "# 2: executez cette cellule maintenant, si tout va bien, il vous demande de mot de passe\n",
        "# 3: Choissez un compte google pour générer le mot de passe\n",
        "# 4: Collez le mot de passe. C'est fait.\n",
        "\n",
        "\n",
        "#Normalement ce serait bon, sinon, n'hesitez pas à m'écrire\n",
        "\n",
        "# Commande Bash pour copier le contenu du dossier Projet-JDS dans le même répertoire que ce notebook\n",
        "!cp -r /content/drive/My\\ Drive/Projet-JDS/* /content"
      ],
      "execution_count": 342,
      "outputs": [
        {
          "output_type": "stream",
          "text": [
            "Drive already mounted at ../content/drive/; to attempt to forcibly remount, call drive.mount(\"../content/drive/\", force_remount=True).\n"
          ],
          "name": "stdout"
        }
      ]
    },
    {
      "cell_type": "code",
      "metadata": {
        "id": "0Oxmv3nzXblI",
        "outputId": "43cbfe09-8491-4af0-f12b-beb00ca79e50",
        "colab": {
          "base_uri": "https://localhost:8080/"
        }
      },
      "source": [
        "csv = pd.read_csv('latest_cleaned.csv')\n",
        "csv.columns"
      ],
      "execution_count": 343,
      "outputs": [
        {
          "output_type": "execute_result",
          "data": {
            "text/plain": [
              "Index(['CRASH_RECORD_ID', 'RD_NO', 'CRASH_DATE_EST_I', 'CRASH_DATE',\n",
              "       'POSTED_SPEED_LIMIT', 'TRAFFIC_CONTROL_DEVICE', 'DEVICE_CONDITION',\n",
              "       'WEATHER_CONDITION', 'LIGHTING_CONDITION', 'FIRST_CRASH_TYPE',\n",
              "       'TRAFFICWAY_TYPE', 'LANE_CNT', 'ALIGNMENT', 'ROADWAY_SURFACE_COND',\n",
              "       'ROAD_DEFECT', 'REPORT_TYPE', 'CRASH_TYPE', 'INTERSECTION_RELATED_I',\n",
              "       'NOT_RIGHT_OF_WAY_I', 'HIT_AND_RUN_I', 'DAMAGE', 'DATE_POLICE_NOTIFIED',\n",
              "       'PRIM_CONTRIBUTORY_CAUSE', 'SEC_CONTRIBUTORY_CAUSE', 'STREET_NO',\n",
              "       'STREET_DIRECTION', 'STREET_NAME', 'BEAT_OF_OCCURRENCE',\n",
              "       'PHOTOS_TAKEN_I', 'STATEMENTS_TAKEN_I', 'DOORING_I', 'WORK_ZONE_I',\n",
              "       'WORK_ZONE_TYPE', 'WORKERS_PRESENT_I', 'NUM_UNITS',\n",
              "       'MOST_SEVERE_INJURY', 'INJURIES_TOTAL', 'INJURIES_FATAL',\n",
              "       'INJURIES_INCAPACITATING', 'INJURIES_NON_INCAPACITATING',\n",
              "       'INJURIES_REPORTED_NOT_EVIDENT', 'INJURIES_NO_INDICATION',\n",
              "       'INJURIES_UNKNOWN', 'CRASH_HOUR', 'CRASH_DAY_OF_WEEK', 'CRASH_MONTH',\n",
              "       'LATITUDE', 'LONGITUDE', 'LOCATION'],\n",
              "      dtype='object')"
            ]
          },
          "metadata": {
            "tags": []
          },
          "execution_count": 343
        }
      ]
    },
    {
      "cell_type": "code",
      "metadata": {
        "id": "IsLjM8BIXkVB",
        "outputId": "17171175-342c-4d28-eed3-a936b2fed930",
        "colab": {
          "base_uri": "https://localhost:8080/",
          "height": 462
        }
      },
      "source": [
        "csv.tail()"
      ],
      "execution_count": 344,
      "outputs": [
        {
          "output_type": "execute_result",
          "data": {
            "text/html": [
              "<div>\n",
              "<style scoped>\n",
              "    .dataframe tbody tr th:only-of-type {\n",
              "        vertical-align: middle;\n",
              "    }\n",
              "\n",
              "    .dataframe tbody tr th {\n",
              "        vertical-align: top;\n",
              "    }\n",
              "\n",
              "    .dataframe thead th {\n",
              "        text-align: right;\n",
              "    }\n",
              "</style>\n",
              "<table border=\"1\" class=\"dataframe\">\n",
              "  <thead>\n",
              "    <tr style=\"text-align: right;\">\n",
              "      <th></th>\n",
              "      <th>CRASH_RECORD_ID</th>\n",
              "      <th>RD_NO</th>\n",
              "      <th>CRASH_DATE_EST_I</th>\n",
              "      <th>CRASH_DATE</th>\n",
              "      <th>POSTED_SPEED_LIMIT</th>\n",
              "      <th>TRAFFIC_CONTROL_DEVICE</th>\n",
              "      <th>DEVICE_CONDITION</th>\n",
              "      <th>WEATHER_CONDITION</th>\n",
              "      <th>LIGHTING_CONDITION</th>\n",
              "      <th>FIRST_CRASH_TYPE</th>\n",
              "      <th>TRAFFICWAY_TYPE</th>\n",
              "      <th>LANE_CNT</th>\n",
              "      <th>ALIGNMENT</th>\n",
              "      <th>ROADWAY_SURFACE_COND</th>\n",
              "      <th>ROAD_DEFECT</th>\n",
              "      <th>REPORT_TYPE</th>\n",
              "      <th>CRASH_TYPE</th>\n",
              "      <th>INTERSECTION_RELATED_I</th>\n",
              "      <th>NOT_RIGHT_OF_WAY_I</th>\n",
              "      <th>HIT_AND_RUN_I</th>\n",
              "      <th>DAMAGE</th>\n",
              "      <th>DATE_POLICE_NOTIFIED</th>\n",
              "      <th>PRIM_CONTRIBUTORY_CAUSE</th>\n",
              "      <th>SEC_CONTRIBUTORY_CAUSE</th>\n",
              "      <th>STREET_NO</th>\n",
              "      <th>STREET_DIRECTION</th>\n",
              "      <th>STREET_NAME</th>\n",
              "      <th>BEAT_OF_OCCURRENCE</th>\n",
              "      <th>PHOTOS_TAKEN_I</th>\n",
              "      <th>STATEMENTS_TAKEN_I</th>\n",
              "      <th>DOORING_I</th>\n",
              "      <th>WORK_ZONE_I</th>\n",
              "      <th>WORK_ZONE_TYPE</th>\n",
              "      <th>WORKERS_PRESENT_I</th>\n",
              "      <th>NUM_UNITS</th>\n",
              "      <th>MOST_SEVERE_INJURY</th>\n",
              "      <th>INJURIES_TOTAL</th>\n",
              "      <th>INJURIES_FATAL</th>\n",
              "      <th>INJURIES_INCAPACITATING</th>\n",
              "      <th>INJURIES_NON_INCAPACITATING</th>\n",
              "      <th>INJURIES_REPORTED_NOT_EVIDENT</th>\n",
              "      <th>INJURIES_NO_INDICATION</th>\n",
              "      <th>INJURIES_UNKNOWN</th>\n",
              "      <th>CRASH_HOUR</th>\n",
              "      <th>CRASH_DAY_OF_WEEK</th>\n",
              "      <th>CRASH_MONTH</th>\n",
              "      <th>LATITUDE</th>\n",
              "      <th>LONGITUDE</th>\n",
              "      <th>LOCATION</th>\n",
              "    </tr>\n",
              "  </thead>\n",
              "  <tbody>\n",
              "    <tr>\n",
              "      <th>448624</th>\n",
              "      <td>e481dd27bc76e18b9a627f605d6d62c5750bca3311222a...</td>\n",
              "      <td>JD313387</td>\n",
              "      <td>NaN</td>\n",
              "      <td>07/28/2020 04:00:00 PM</td>\n",
              "      <td>30</td>\n",
              "      <td>NO CONTROLS</td>\n",
              "      <td>NO CONTROLS</td>\n",
              "      <td>CLEAR</td>\n",
              "      <td>DAYLIGHT</td>\n",
              "      <td>PARKED MOTOR VEHICLE</td>\n",
              "      <td>ONE-WAY</td>\n",
              "      <td>NaN</td>\n",
              "      <td>STRAIGHT AND LEVEL</td>\n",
              "      <td>DRY</td>\n",
              "      <td>NO DEFECTS</td>\n",
              "      <td>ON SCENE</td>\n",
              "      <td>INJURY AND / OR TOW DUE TO CRASH</td>\n",
              "      <td>N</td>\n",
              "      <td>NaN</td>\n",
              "      <td>NaN</td>\n",
              "      <td>OVER $1,500</td>\n",
              "      <td>07/28/2020 07:19:00 PM</td>\n",
              "      <td>FAILING TO REDUCE SPEED TO AVOID CRASH</td>\n",
              "      <td>FAILING TO REDUCE SPEED TO AVOID CRASH</td>\n",
              "      <td>1553</td>\n",
              "      <td>S</td>\n",
              "      <td>AVERS AVE</td>\n",
              "      <td>1014.0</td>\n",
              "      <td>NaN</td>\n",
              "      <td>NaN</td>\n",
              "      <td>NaN</td>\n",
              "      <td>NaN</td>\n",
              "      <td>NaN</td>\n",
              "      <td>NaN</td>\n",
              "      <td>2</td>\n",
              "      <td>REPORTED, NOT EVIDENT</td>\n",
              "      <td>1.0</td>\n",
              "      <td>0.0</td>\n",
              "      <td>0.0</td>\n",
              "      <td>0.0</td>\n",
              "      <td>1.0</td>\n",
              "      <td>0.0</td>\n",
              "      <td>0.0</td>\n",
              "      <td>16</td>\n",
              "      <td>3</td>\n",
              "      <td>7</td>\n",
              "      <td>41.859162</td>\n",
              "      <td>-87.721164</td>\n",
              "      <td>POINT (-87.721164123424 41.859161813268)</td>\n",
              "    </tr>\n",
              "    <tr>\n",
              "      <th>448625</th>\n",
              "      <td>df74080be8ceeb327edd744a7f34507bc32c3f76a3f00c...</td>\n",
              "      <td>JD314102</td>\n",
              "      <td>NaN</td>\n",
              "      <td>07/29/2020 02:00:00 PM</td>\n",
              "      <td>30</td>\n",
              "      <td>NO CONTROLS</td>\n",
              "      <td>NO CONTROLS</td>\n",
              "      <td>CLEAR</td>\n",
              "      <td>DAYLIGHT</td>\n",
              "      <td>PARKED MOTOR VEHICLE</td>\n",
              "      <td>ONE-WAY</td>\n",
              "      <td>NaN</td>\n",
              "      <td>STRAIGHT AND LEVEL</td>\n",
              "      <td>DRY</td>\n",
              "      <td>NO DEFECTS</td>\n",
              "      <td>ON SCENE</td>\n",
              "      <td>NO INJURY / DRIVE AWAY</td>\n",
              "      <td>N</td>\n",
              "      <td>NaN</td>\n",
              "      <td>Y</td>\n",
              "      <td>$501 - $1,500</td>\n",
              "      <td>07/29/2020 02:16:00 PM</td>\n",
              "      <td>UNABLE TO DETERMINE</td>\n",
              "      <td>NOT APPLICABLE</td>\n",
              "      <td>641</td>\n",
              "      <td>E</td>\n",
              "      <td>49TH ST</td>\n",
              "      <td>223.0</td>\n",
              "      <td>NaN</td>\n",
              "      <td>NaN</td>\n",
              "      <td>NaN</td>\n",
              "      <td>NaN</td>\n",
              "      <td>NaN</td>\n",
              "      <td>NaN</td>\n",
              "      <td>2</td>\n",
              "      <td>NO INDICATION OF INJURY</td>\n",
              "      <td>0.0</td>\n",
              "      <td>0.0</td>\n",
              "      <td>0.0</td>\n",
              "      <td>0.0</td>\n",
              "      <td>0.0</td>\n",
              "      <td>1.0</td>\n",
              "      <td>0.0</td>\n",
              "      <td>14</td>\n",
              "      <td>4</td>\n",
              "      <td>7</td>\n",
              "      <td>41.805737</td>\n",
              "      <td>-87.609784</td>\n",
              "      <td>POINT (-87.609784032292 41.805736682295)</td>\n",
              "    </tr>\n",
              "    <tr>\n",
              "      <th>448626</th>\n",
              "      <td>f2ad41aeabd38b5c073f887c66ba64118d1c8843395d5c...</td>\n",
              "      <td>JD313908</td>\n",
              "      <td>NaN</td>\n",
              "      <td>07/29/2020 10:50:00 AM</td>\n",
              "      <td>30</td>\n",
              "      <td>TRAFFIC SIGNAL</td>\n",
              "      <td>FUNCTIONING PROPERLY</td>\n",
              "      <td>CLEAR</td>\n",
              "      <td>DAYLIGHT</td>\n",
              "      <td>REAR END</td>\n",
              "      <td>DIVIDED - W/MEDIAN (NOT RAISED)</td>\n",
              "      <td>NaN</td>\n",
              "      <td>STRAIGHT AND LEVEL</td>\n",
              "      <td>DRY</td>\n",
              "      <td>NO DEFECTS</td>\n",
              "      <td>NOT ON SCENE (DESK REPORT)</td>\n",
              "      <td>INJURY AND / OR TOW DUE TO CRASH</td>\n",
              "      <td>Y</td>\n",
              "      <td>NaN</td>\n",
              "      <td>NaN</td>\n",
              "      <td>OVER $1,500</td>\n",
              "      <td>07/29/2020 11:51:00 AM</td>\n",
              "      <td>DISTRACTION - OTHER ELECTRONIC DEVICE (NAVIGAT...</td>\n",
              "      <td>NOT APPLICABLE</td>\n",
              "      <td>3198</td>\n",
              "      <td>W</td>\n",
              "      <td>FULLERTON AVE</td>\n",
              "      <td>1413.0</td>\n",
              "      <td>NaN</td>\n",
              "      <td>NaN</td>\n",
              "      <td>NaN</td>\n",
              "      <td>NaN</td>\n",
              "      <td>NaN</td>\n",
              "      <td>NaN</td>\n",
              "      <td>2</td>\n",
              "      <td>REPORTED, NOT EVIDENT</td>\n",
              "      <td>1.0</td>\n",
              "      <td>0.0</td>\n",
              "      <td>0.0</td>\n",
              "      <td>0.0</td>\n",
              "      <td>1.0</td>\n",
              "      <td>2.0</td>\n",
              "      <td>0.0</td>\n",
              "      <td>10</td>\n",
              "      <td>4</td>\n",
              "      <td>7</td>\n",
              "      <td>41.924824</td>\n",
              "      <td>-87.707553</td>\n",
              "      <td>POINT (-87.707552955117 41.924824383756)</td>\n",
              "    </tr>\n",
              "    <tr>\n",
              "      <th>448627</th>\n",
              "      <td>fcc0426860ee85a4e6db60be5572d317452eb63506d0df...</td>\n",
              "      <td>JD314407</td>\n",
              "      <td>NaN</td>\n",
              "      <td>07/29/2020 06:30:00 PM</td>\n",
              "      <td>30</td>\n",
              "      <td>NO CONTROLS</td>\n",
              "      <td>NO CONTROLS</td>\n",
              "      <td>CLEAR</td>\n",
              "      <td>DAYLIGHT</td>\n",
              "      <td>PARKED MOTOR VEHICLE</td>\n",
              "      <td>NOT DIVIDED</td>\n",
              "      <td>NaN</td>\n",
              "      <td>STRAIGHT AND LEVEL</td>\n",
              "      <td>DRY</td>\n",
              "      <td>NO DEFECTS</td>\n",
              "      <td>NOT ON SCENE (DESK REPORT)</td>\n",
              "      <td>NO INJURY / DRIVE AWAY</td>\n",
              "      <td>N</td>\n",
              "      <td>NaN</td>\n",
              "      <td>NaN</td>\n",
              "      <td>$501 - $1,500</td>\n",
              "      <td>07/29/2020 07:32:00 PM</td>\n",
              "      <td>UNABLE TO DETERMINE</td>\n",
              "      <td>UNABLE TO DETERMINE</td>\n",
              "      <td>940</td>\n",
              "      <td>W</td>\n",
              "      <td>WEED ST</td>\n",
              "      <td>1822.0</td>\n",
              "      <td>NaN</td>\n",
              "      <td>NaN</td>\n",
              "      <td>NaN</td>\n",
              "      <td>NaN</td>\n",
              "      <td>NaN</td>\n",
              "      <td>NaN</td>\n",
              "      <td>2</td>\n",
              "      <td>NO INDICATION OF INJURY</td>\n",
              "      <td>0.0</td>\n",
              "      <td>0.0</td>\n",
              "      <td>0.0</td>\n",
              "      <td>0.0</td>\n",
              "      <td>0.0</td>\n",
              "      <td>1.0</td>\n",
              "      <td>0.0</td>\n",
              "      <td>18</td>\n",
              "      <td>4</td>\n",
              "      <td>7</td>\n",
              "      <td>41.909896</td>\n",
              "      <td>-87.652772</td>\n",
              "      <td>POINT (-87.65277243899 41.909895530398)</td>\n",
              "    </tr>\n",
              "    <tr>\n",
              "      <th>448628</th>\n",
              "      <td>f829a8bd9a1afc120ed6720cdb20a22b1a90b81278002b...</td>\n",
              "      <td>JD105771</td>\n",
              "      <td>NaN</td>\n",
              "      <td>01/06/2020 08:30:00 AM</td>\n",
              "      <td>15</td>\n",
              "      <td>NO CONTROLS</td>\n",
              "      <td>NO CONTROLS</td>\n",
              "      <td>CLEAR</td>\n",
              "      <td>DAYLIGHT</td>\n",
              "      <td>ANGLE</td>\n",
              "      <td>ALLEY</td>\n",
              "      <td>NaN</td>\n",
              "      <td>STRAIGHT AND LEVEL</td>\n",
              "      <td>DRY</td>\n",
              "      <td>NO DEFECTS</td>\n",
              "      <td>NOT ON SCENE (DESK REPORT)</td>\n",
              "      <td>NO INJURY / DRIVE AWAY</td>\n",
              "      <td>N</td>\n",
              "      <td>NaN</td>\n",
              "      <td>NaN</td>\n",
              "      <td>$501 - $1,500</td>\n",
              "      <td>01/06/2020 09:30:00 AM</td>\n",
              "      <td>UNABLE TO DETERMINE</td>\n",
              "      <td>UNABLE TO DETERMINE</td>\n",
              "      <td>1305</td>\n",
              "      <td>S</td>\n",
              "      <td>MICHIGAN AVE</td>\n",
              "      <td>132.0</td>\n",
              "      <td>NaN</td>\n",
              "      <td>NaN</td>\n",
              "      <td>NaN</td>\n",
              "      <td>NaN</td>\n",
              "      <td>NaN</td>\n",
              "      <td>NaN</td>\n",
              "      <td>2</td>\n",
              "      <td>NO INDICATION OF INJURY</td>\n",
              "      <td>0.0</td>\n",
              "      <td>0.0</td>\n",
              "      <td>0.0</td>\n",
              "      <td>0.0</td>\n",
              "      <td>0.0</td>\n",
              "      <td>2.0</td>\n",
              "      <td>0.0</td>\n",
              "      <td>8</td>\n",
              "      <td>2</td>\n",
              "      <td>1</td>\n",
              "      <td>41.865595</td>\n",
              "      <td>-87.623964</td>\n",
              "      <td>POINT (-87.62396444716 41.865594951208)</td>\n",
              "    </tr>\n",
              "  </tbody>\n",
              "</table>\n",
              "</div>"
            ],
            "text/plain": [
              "                                          CRASH_RECORD_ID  ...                                  LOCATION\n",
              "448624  e481dd27bc76e18b9a627f605d6d62c5750bca3311222a...  ...  POINT (-87.721164123424 41.859161813268)\n",
              "448625  df74080be8ceeb327edd744a7f34507bc32c3f76a3f00c...  ...  POINT (-87.609784032292 41.805736682295)\n",
              "448626  f2ad41aeabd38b5c073f887c66ba64118d1c8843395d5c...  ...  POINT (-87.707552955117 41.924824383756)\n",
              "448627  fcc0426860ee85a4e6db60be5572d317452eb63506d0df...  ...   POINT (-87.65277243899 41.909895530398)\n",
              "448628  f829a8bd9a1afc120ed6720cdb20a22b1a90b81278002b...  ...   POINT (-87.62396444716 41.865594951208)\n",
              "\n",
              "[5 rows x 49 columns]"
            ]
          },
          "metadata": {
            "tags": []
          },
          "execution_count": 344
        }
      ]
    },
    {
      "cell_type": "markdown",
      "metadata": {
        "id": "-EtYvlpDb8yZ"
      },
      "source": [
        "#Removal of the columns which are not useful\n",
        "Crash_hour, Crash_day_of_week, Crash_month existent déjà dans la colonne: Crash_date.\n",
        "\n",
        "---\n",
        "\n",
        "Location est une melange de latitude et longitude, qui existent déjà dans la colonne: Latitude et longtitude\n",
        " "
      ]
    },
    {
      "cell_type": "code",
      "metadata": {
        "id": "RqbvB8bDYLNC",
        "outputId": "2ec28d17-db0c-4299-8a0b-62d8e90b8c35",
        "colab": {
          "base_uri": "https://localhost:8080/"
        }
      },
      "source": [
        "csv = csv.drop(['CRASH_RECORD_ID','RD_NO','CRASH_DATE_EST_I','BEAT_OF_OCCURRENCE','NOT_RIGHT_OF_WAY_I',\n",
        "              'PHOTOS_TAKEN_I','STATEMENTS_TAKEN_I','REPORT_TYPE','HIT_AND_RUN_I','DATE_POLICE_NOTIFIED','STREET_NO','STREET_DIRECTION','STREET_NAME'],axis=1)\n",
        "\n",
        "# Removal of the columns that are redundant\n",
        "csv = csv.drop(['CRASH_HOUR', 'CRASH_DAY_OF_WEEK','CRASH_MONTH'],axis=1)\n",
        "csv.columns\n"
      ],
      "execution_count": 345,
      "outputs": [
        {
          "output_type": "execute_result",
          "data": {
            "text/plain": [
              "Index(['CRASH_DATE', 'POSTED_SPEED_LIMIT', 'TRAFFIC_CONTROL_DEVICE',\n",
              "       'DEVICE_CONDITION', 'WEATHER_CONDITION', 'LIGHTING_CONDITION',\n",
              "       'FIRST_CRASH_TYPE', 'TRAFFICWAY_TYPE', 'LANE_CNT', 'ALIGNMENT',\n",
              "       'ROADWAY_SURFACE_COND', 'ROAD_DEFECT', 'CRASH_TYPE',\n",
              "       'INTERSECTION_RELATED_I', 'DAMAGE', 'PRIM_CONTRIBUTORY_CAUSE',\n",
              "       'SEC_CONTRIBUTORY_CAUSE', 'DOORING_I', 'WORK_ZONE_I', 'WORK_ZONE_TYPE',\n",
              "       'WORKERS_PRESENT_I', 'NUM_UNITS', 'MOST_SEVERE_INJURY',\n",
              "       'INJURIES_TOTAL', 'INJURIES_FATAL', 'INJURIES_INCAPACITATING',\n",
              "       'INJURIES_NON_INCAPACITATING', 'INJURIES_REPORTED_NOT_EVIDENT',\n",
              "       'INJURIES_NO_INDICATION', 'INJURIES_UNKNOWN', 'LATITUDE', 'LONGITUDE',\n",
              "       'LOCATION'],\n",
              "      dtype='object')"
            ]
          },
          "metadata": {
            "tags": []
          },
          "execution_count": 345
        }
      ]
    },
    {
      "cell_type": "code",
      "metadata": {
        "id": "xlJhqKXVZF6G",
        "outputId": "bc086de7-0d4e-4916-d83e-aa919ef438bf",
        "colab": {
          "base_uri": "https://localhost:8080/",
          "height": 411
        }
      },
      "source": [
        "csv.head()"
      ],
      "execution_count": 346,
      "outputs": [
        {
          "output_type": "execute_result",
          "data": {
            "text/html": [
              "<div>\n",
              "<style scoped>\n",
              "    .dataframe tbody tr th:only-of-type {\n",
              "        vertical-align: middle;\n",
              "    }\n",
              "\n",
              "    .dataframe tbody tr th {\n",
              "        vertical-align: top;\n",
              "    }\n",
              "\n",
              "    .dataframe thead th {\n",
              "        text-align: right;\n",
              "    }\n",
              "</style>\n",
              "<table border=\"1\" class=\"dataframe\">\n",
              "  <thead>\n",
              "    <tr style=\"text-align: right;\">\n",
              "      <th></th>\n",
              "      <th>CRASH_DATE</th>\n",
              "      <th>POSTED_SPEED_LIMIT</th>\n",
              "      <th>TRAFFIC_CONTROL_DEVICE</th>\n",
              "      <th>DEVICE_CONDITION</th>\n",
              "      <th>WEATHER_CONDITION</th>\n",
              "      <th>LIGHTING_CONDITION</th>\n",
              "      <th>FIRST_CRASH_TYPE</th>\n",
              "      <th>TRAFFICWAY_TYPE</th>\n",
              "      <th>LANE_CNT</th>\n",
              "      <th>ALIGNMENT</th>\n",
              "      <th>ROADWAY_SURFACE_COND</th>\n",
              "      <th>ROAD_DEFECT</th>\n",
              "      <th>CRASH_TYPE</th>\n",
              "      <th>INTERSECTION_RELATED_I</th>\n",
              "      <th>DAMAGE</th>\n",
              "      <th>PRIM_CONTRIBUTORY_CAUSE</th>\n",
              "      <th>SEC_CONTRIBUTORY_CAUSE</th>\n",
              "      <th>DOORING_I</th>\n",
              "      <th>WORK_ZONE_I</th>\n",
              "      <th>WORK_ZONE_TYPE</th>\n",
              "      <th>WORKERS_PRESENT_I</th>\n",
              "      <th>NUM_UNITS</th>\n",
              "      <th>MOST_SEVERE_INJURY</th>\n",
              "      <th>INJURIES_TOTAL</th>\n",
              "      <th>INJURIES_FATAL</th>\n",
              "      <th>INJURIES_INCAPACITATING</th>\n",
              "      <th>INJURIES_NON_INCAPACITATING</th>\n",
              "      <th>INJURIES_REPORTED_NOT_EVIDENT</th>\n",
              "      <th>INJURIES_NO_INDICATION</th>\n",
              "      <th>INJURIES_UNKNOWN</th>\n",
              "      <th>LATITUDE</th>\n",
              "      <th>LONGITUDE</th>\n",
              "      <th>LOCATION</th>\n",
              "    </tr>\n",
              "  </thead>\n",
              "  <tbody>\n",
              "    <tr>\n",
              "      <th>0</th>\n",
              "      <td>06/30/2017 04:00:00 PM</td>\n",
              "      <td>35</td>\n",
              "      <td>STOP SIGN/FLASHER</td>\n",
              "      <td>FUNCTIONING PROPERLY</td>\n",
              "      <td>CLEAR</td>\n",
              "      <td>DAYLIGHT</td>\n",
              "      <td>TURNING</td>\n",
              "      <td>NOT DIVIDED</td>\n",
              "      <td>4.0</td>\n",
              "      <td>STRAIGHT AND LEVEL</td>\n",
              "      <td>DRY</td>\n",
              "      <td>NO DEFECTS</td>\n",
              "      <td>INJURY AND / OR TOW DUE TO CRASH</td>\n",
              "      <td>Y</td>\n",
              "      <td>OVER $1,500</td>\n",
              "      <td>FAILING TO YIELD RIGHT-OF-WAY</td>\n",
              "      <td>NOT APPLICABLE</td>\n",
              "      <td>NaN</td>\n",
              "      <td>NaN</td>\n",
              "      <td>NaN</td>\n",
              "      <td>NaN</td>\n",
              "      <td>2</td>\n",
              "      <td>NO INDICATION OF INJURY</td>\n",
              "      <td>0.0</td>\n",
              "      <td>0.0</td>\n",
              "      <td>0.0</td>\n",
              "      <td>0.0</td>\n",
              "      <td>0.0</td>\n",
              "      <td>3.0</td>\n",
              "      <td>0.0</td>\n",
              "      <td>41.741804</td>\n",
              "      <td>-87.740954</td>\n",
              "      <td>POINT (-87.740953581987 41.741803598989)</td>\n",
              "    </tr>\n",
              "    <tr>\n",
              "      <th>1</th>\n",
              "      <td>03/21/2019 10:50:00 PM</td>\n",
              "      <td>30</td>\n",
              "      <td>TRAFFIC SIGNAL</td>\n",
              "      <td>FUNCTIONING PROPERLY</td>\n",
              "      <td>CLEAR</td>\n",
              "      <td>DARKNESS, LIGHTED ROAD</td>\n",
              "      <td>TURNING</td>\n",
              "      <td>NOT DIVIDED</td>\n",
              "      <td>4.0</td>\n",
              "      <td>STRAIGHT AND LEVEL</td>\n",
              "      <td>DRY</td>\n",
              "      <td>NO DEFECTS</td>\n",
              "      <td>NO INJURY / DRIVE AWAY</td>\n",
              "      <td>Y</td>\n",
              "      <td>OVER $1,500</td>\n",
              "      <td>UNABLE TO DETERMINE</td>\n",
              "      <td>UNABLE TO DETERMINE</td>\n",
              "      <td>NaN</td>\n",
              "      <td>NaN</td>\n",
              "      <td>NaN</td>\n",
              "      <td>NaN</td>\n",
              "      <td>2</td>\n",
              "      <td>NO INDICATION OF INJURY</td>\n",
              "      <td>0.0</td>\n",
              "      <td>0.0</td>\n",
              "      <td>0.0</td>\n",
              "      <td>0.0</td>\n",
              "      <td>0.0</td>\n",
              "      <td>2.0</td>\n",
              "      <td>0.0</td>\n",
              "      <td>41.741804</td>\n",
              "      <td>-87.740954</td>\n",
              "      <td>POINT (-87.740953581987 41.741803598989)</td>\n",
              "    </tr>\n",
              "    <tr>\n",
              "      <th>2</th>\n",
              "      <td>03/26/2018 02:23:00 PM</td>\n",
              "      <td>35</td>\n",
              "      <td>NO CONTROLS</td>\n",
              "      <td>NO CONTROLS</td>\n",
              "      <td>CLEAR</td>\n",
              "      <td>DAYLIGHT</td>\n",
              "      <td>PARKED MOTOR VEHICLE</td>\n",
              "      <td>NOT DIVIDED</td>\n",
              "      <td>NaN</td>\n",
              "      <td>STRAIGHT AND LEVEL</td>\n",
              "      <td>DRY</td>\n",
              "      <td>NO DEFECTS</td>\n",
              "      <td>NO INJURY / DRIVE AWAY</td>\n",
              "      <td>Y</td>\n",
              "      <td>$501 - $1,500</td>\n",
              "      <td>UNABLE TO DETERMINE</td>\n",
              "      <td>UNABLE TO DETERMINE</td>\n",
              "      <td>NaN</td>\n",
              "      <td>NaN</td>\n",
              "      <td>NaN</td>\n",
              "      <td>NaN</td>\n",
              "      <td>2</td>\n",
              "      <td>NO INDICATION OF INJURY</td>\n",
              "      <td>0.0</td>\n",
              "      <td>0.0</td>\n",
              "      <td>0.0</td>\n",
              "      <td>0.0</td>\n",
              "      <td>0.0</td>\n",
              "      <td>2.0</td>\n",
              "      <td>0.0</td>\n",
              "      <td>41.953647</td>\n",
              "      <td>-87.732082</td>\n",
              "      <td>POINT (-87.732081736006 41.953646899951)</td>\n",
              "    </tr>\n",
              "    <tr>\n",
              "      <th>3</th>\n",
              "      <td>02/20/2020 04:45:00 PM</td>\n",
              "      <td>35</td>\n",
              "      <td>TRAFFIC SIGNAL</td>\n",
              "      <td>OTHER</td>\n",
              "      <td>CLEAR</td>\n",
              "      <td>DAWN</td>\n",
              "      <td>REAR END</td>\n",
              "      <td>T-INTERSECTION</td>\n",
              "      <td>NaN</td>\n",
              "      <td>STRAIGHT AND LEVEL</td>\n",
              "      <td>DRY</td>\n",
              "      <td>NO DEFECTS</td>\n",
              "      <td>NO INJURY / DRIVE AWAY</td>\n",
              "      <td>Y</td>\n",
              "      <td>$501 - $1,500</td>\n",
              "      <td>NOT APPLICABLE</td>\n",
              "      <td>NOT APPLICABLE</td>\n",
              "      <td>NaN</td>\n",
              "      <td>NaN</td>\n",
              "      <td>NaN</td>\n",
              "      <td>NaN</td>\n",
              "      <td>2</td>\n",
              "      <td>NO INDICATION OF INJURY</td>\n",
              "      <td>0.0</td>\n",
              "      <td>0.0</td>\n",
              "      <td>0.0</td>\n",
              "      <td>0.0</td>\n",
              "      <td>0.0</td>\n",
              "      <td>2.0</td>\n",
              "      <td>0.0</td>\n",
              "      <td>41.958987</td>\n",
              "      <td>-87.933994</td>\n",
              "      <td>POINT (-87.933993928974 41.958986950953)</td>\n",
              "    </tr>\n",
              "    <tr>\n",
              "      <th>4</th>\n",
              "      <td>08/30/2018 05:45:00 PM</td>\n",
              "      <td>30</td>\n",
              "      <td>TRAFFIC SIGNAL</td>\n",
              "      <td>FUNCTIONING PROPERLY</td>\n",
              "      <td>CLEAR</td>\n",
              "      <td>DAYLIGHT</td>\n",
              "      <td>TURNING</td>\n",
              "      <td>NOT DIVIDED</td>\n",
              "      <td>NaN</td>\n",
              "      <td>STRAIGHT AND LEVEL</td>\n",
              "      <td>DRY</td>\n",
              "      <td>UNKNOWN</td>\n",
              "      <td>NO INJURY / DRIVE AWAY</td>\n",
              "      <td>Y</td>\n",
              "      <td>OVER $1,500</td>\n",
              "      <td>IMPROPER OVERTAKING/PASSING</td>\n",
              "      <td>IMPROPER LANE USAGE</td>\n",
              "      <td>NaN</td>\n",
              "      <td>NaN</td>\n",
              "      <td>NaN</td>\n",
              "      <td>NaN</td>\n",
              "      <td>2</td>\n",
              "      <td>NO INDICATION OF INJURY</td>\n",
              "      <td>0.0</td>\n",
              "      <td>0.0</td>\n",
              "      <td>0.0</td>\n",
              "      <td>0.0</td>\n",
              "      <td>0.0</td>\n",
              "      <td>2.0</td>\n",
              "      <td>0.0</td>\n",
              "      <td>41.903825</td>\n",
              "      <td>-87.643286</td>\n",
              "      <td>POINT (-87.643286359995 41.903825233976)</td>\n",
              "    </tr>\n",
              "  </tbody>\n",
              "</table>\n",
              "</div>"
            ],
            "text/plain": [
              "               CRASH_DATE  ...                                  LOCATION\n",
              "0  06/30/2017 04:00:00 PM  ...  POINT (-87.740953581987 41.741803598989)\n",
              "1  03/21/2019 10:50:00 PM  ...  POINT (-87.740953581987 41.741803598989)\n",
              "2  03/26/2018 02:23:00 PM  ...  POINT (-87.732081736006 41.953646899951)\n",
              "3  02/20/2020 04:45:00 PM  ...  POINT (-87.933993928974 41.958986950953)\n",
              "4  08/30/2018 05:45:00 PM  ...  POINT (-87.643286359995 41.903825233976)\n",
              "\n",
              "[5 rows x 33 columns]"
            ]
          },
          "metadata": {
            "tags": []
          },
          "execution_count": 346
        }
      ]
    },
    {
      "cell_type": "markdown",
      "metadata": {
        "id": "JOMLm2Bgcw-H"
      },
      "source": [
        "#Est-ce que les colonnes possedent des valeurs nan? Does any of the columns hold any nan values?"
      ]
    },
    {
      "cell_type": "code",
      "metadata": {
        "id": "oBJxZg0qkylw",
        "outputId": "19af85d7-3fce-44fb-f5d6-d538d5c98640",
        "colab": {
          "base_uri": "https://localhost:8080/"
        }
      },
      "source": [
        "print('{}% ont des colonnes ont NaN'.format(round(sum(csv.isna().any())/len(csv.columns)*100,2)))\n",
        "# comme vous le voyez ci-dessous, après l'enlèvement, il y a vers 40% de colonnes qui possedent des valeurs nan (la vie serait fou donc je suppose!)"
      ],
      "execution_count": 347,
      "outputs": [
        {
          "output_type": "stream",
          "text": [
            "39.39% ont des colonnes ont NaN\n"
          ],
          "name": "stdout"
        }
      ]
    },
    {
      "cell_type": "code",
      "metadata": {
        "id": "lIbA85OqpbtV",
        "outputId": "30c49cb4-c5c6-457b-abc9-7fdd8000564c",
        "colab": {
          "base_uri": "https://localhost:8080/"
        }
      },
      "source": [
        "#sanity check\n",
        "csv.columns"
      ],
      "execution_count": 348,
      "outputs": [
        {
          "output_type": "execute_result",
          "data": {
            "text/plain": [
              "Index(['CRASH_DATE', 'POSTED_SPEED_LIMIT', 'TRAFFIC_CONTROL_DEVICE',\n",
              "       'DEVICE_CONDITION', 'WEATHER_CONDITION', 'LIGHTING_CONDITION',\n",
              "       'FIRST_CRASH_TYPE', 'TRAFFICWAY_TYPE', 'LANE_CNT', 'ALIGNMENT',\n",
              "       'ROADWAY_SURFACE_COND', 'ROAD_DEFECT', 'CRASH_TYPE',\n",
              "       'INTERSECTION_RELATED_I', 'DAMAGE', 'PRIM_CONTRIBUTORY_CAUSE',\n",
              "       'SEC_CONTRIBUTORY_CAUSE', 'DOORING_I', 'WORK_ZONE_I', 'WORK_ZONE_TYPE',\n",
              "       'WORKERS_PRESENT_I', 'NUM_UNITS', 'MOST_SEVERE_INJURY',\n",
              "       'INJURIES_TOTAL', 'INJURIES_FATAL', 'INJURIES_INCAPACITATING',\n",
              "       'INJURIES_NON_INCAPACITATING', 'INJURIES_REPORTED_NOT_EVIDENT',\n",
              "       'INJURIES_NO_INDICATION', 'INJURIES_UNKNOWN', 'LATITUDE', 'LONGITUDE',\n",
              "       'LOCATION'],\n",
              "      dtype='object')"
            ]
          },
          "metadata": {
            "tags": []
          },
          "execution_count": 348
        }
      ]
    },
    {
      "cell_type": "markdown",
      "metadata": {
        "id": "bwZ9_0U4dxHL"
      },
      "source": [
        "#De meme, quel est le ***ratio*** de NaN et les valeurs ?"
      ]
    },
    {
      "cell_type": "code",
      "metadata": {
        "id": "tm-EjHKdk1Oa"
      },
      "source": [
        "csv_raw = pd.read_csv('/content/Traffic_Crashes_-_Chicago.csv')\n",
        "# IMPORTANT: to your understanding, I have used the raw/uncleaned csv just to explain you how many in the LATITUDE are null"
      ],
      "execution_count": 349,
      "outputs": []
    },
    {
      "cell_type": "markdown",
      "metadata": {
        "id": "HfazLOMccH1U"
      },
      "source": [
        "**Important**: The csv I mount from Google Drive is after executing the code below, why ? I would have explained in the upcoming cells. Check it out. Key Takeaway: the 2441 cells dont have a value in the latitude column."
      ]
    },
    {
      "cell_type": "code",
      "metadata": {
        "id": "sNI6kQRTONxn",
        "outputId": "c7cd6f37-c849-45b4-d209-c83bde0995f8",
        "colab": {
          "base_uri": "https://localhost:8080/"
        }
      },
      "source": [
        "print(sum(csv_raw['LATITUDE'].isna()))\n",
        "print('The {}% of cells do not have values'.format(sum(csv_raw['LATITUDE'].isna())/len(csv)*100))\n",
        "# 2441 cells dont have a value, that approx. less than 1 percent of total dataset size, removing is an option, why am I removing? 2 obvious reasons:\n",
        "# 1 percent (0.5% to be precise) is too small and the location is the most important piece of data!\n",
        " \n",
        "\n",
        "# the code below is a bit hard to interpret? hear me out: firstly we find where are the null values are being spotted, locate on the dataframe with iloc, get its index then drop it finally.\n",
        "csv = csv.drop(csv.iloc[((np.where(csv['LATITUDE'].isna().values==True)))].index)\n",
        "# as the rows are dropped the index would indeed be disorganised, fixing that with reset_index\n",
        "#csv = csv.reset_index()"
      ],
      "execution_count": 350,
      "outputs": [
        {
          "output_type": "stream",
          "text": [
            "2441\n",
            "The 0.544102142304666% of cells do not have values\n"
          ],
          "name": "stdout"
        }
      ]
    },
    {
      "cell_type": "code",
      "metadata": {
        "id": "eIj2h3FATRHe",
        "outputId": "846708f6-ec4f-4d3a-f8ac-8ed6f813f68a",
        "colab": {
          "base_uri": "https://localhost:8080/"
        }
      },
      "source": [
        "# sanity check\n",
        "sum(csv['LATITUDE'].isna().values)"
      ],
      "execution_count": 351,
      "outputs": [
        {
          "output_type": "execute_result",
          "data": {
            "text/plain": [
              "0"
            ]
          },
          "metadata": {
            "tags": []
          },
          "execution_count": 351
        }
      ]
    },
    {
      "cell_type": "markdown",
      "metadata": {
        "id": "vYhIM8UOcf31"
      },
      "source": [
        "# Combien de colonnes possedent des valeurs NaN?"
      ]
    },
    {
      "cell_type": "code",
      "metadata": {
        "id": "UpuruGj49Xqe",
        "outputId": "218a1660-2958-448b-84a1-158b0ed71677",
        "colab": {
          "base_uri": "https://localhost:8080/"
        }
      },
      "source": [
        "csv.isna().any()\n",
        "# la colonne INTERSECTION_RELATED_I est effectivement plein de valeurs nan, pour remplir ces valeurs là, j'avais trouvé un API(application program interface).\n",
        "# okay, tout simplement, je vais expliquer prochainement dans les cellules suivantes (ce serait plus approprié).\n",
        "# j'avais rempli \"yet_to_clean\" to replace nan for our understanding."
      ],
      "execution_count": 352,
      "outputs": [
        {
          "output_type": "execute_result",
          "data": {
            "text/plain": [
              "CRASH_DATE                       False\n",
              "POSTED_SPEED_LIMIT               False\n",
              "TRAFFIC_CONTROL_DEVICE           False\n",
              "DEVICE_CONDITION                 False\n",
              "WEATHER_CONDITION                False\n",
              "LIGHTING_CONDITION               False\n",
              "FIRST_CRASH_TYPE                 False\n",
              "TRAFFICWAY_TYPE                  False\n",
              "LANE_CNT                          True\n",
              "ALIGNMENT                        False\n",
              "ROADWAY_SURFACE_COND             False\n",
              "ROAD_DEFECT                      False\n",
              "CRASH_TYPE                       False\n",
              "INTERSECTION_RELATED_I           False\n",
              "DAMAGE                           False\n",
              "PRIM_CONTRIBUTORY_CAUSE          False\n",
              "SEC_CONTRIBUTORY_CAUSE           False\n",
              "DOORING_I                         True\n",
              "WORK_ZONE_I                       True\n",
              "WORK_ZONE_TYPE                    True\n",
              "WORKERS_PRESENT_I                 True\n",
              "NUM_UNITS                        False\n",
              "MOST_SEVERE_INJURY                True\n",
              "INJURIES_TOTAL                    True\n",
              "INJURIES_FATAL                    True\n",
              "INJURIES_INCAPACITATING           True\n",
              "INJURIES_NON_INCAPACITATING       True\n",
              "INJURIES_REPORTED_NOT_EVIDENT     True\n",
              "INJURIES_NO_INDICATION            True\n",
              "INJURIES_UNKNOWN                  True\n",
              "LATITUDE                         False\n",
              "LONGITUDE                        False\n",
              "LOCATION                         False\n",
              "dtype: bool"
            ]
          },
          "metadata": {
            "tags": []
          },
          "execution_count": 352
        }
      ]
    },
    {
      "cell_type": "code",
      "metadata": {
        "id": "4S76fmmedxHz",
        "outputId": "d32265f3-45d8-4e82-dd0c-432d0b4cdb9a",
        "colab": {
          "base_uri": "https://localhost:8080/"
        }
      },
      "source": [
        "#combien de colonnes portent des valeurs nan\n",
        "csv.isna().any().values.sum() # 13 en total"
      ],
      "execution_count": 353,
      "outputs": [
        {
          "output_type": "execute_result",
          "data": {
            "text/plain": [
              "13"
            ]
          },
          "metadata": {
            "tags": []
          },
          "execution_count": 353
        }
      ]
    },
    {
      "cell_type": "markdown",
      "metadata": {
        "id": "XUJEe0_SeolI"
      },
      "source": [
        "# On avance à gérer une colonne après autres pour que vous comprenez bien\n",
        "\n",
        "1.LANE_CNT\n",
        "\n"
      ]
    },
    {
      "cell_type": "markdown",
      "metadata": {
        "id": "kT6Dvqvuc3tq"
      },
      "source": [
        " Quel pourcentage des valeurs sont ***nulles*** dans la colonne LANE_CNT ?"
      ]
    },
    {
      "cell_type": "code",
      "metadata": {
        "id": "RaxPzrmXAMwj",
        "outputId": "576d0936-dd35-4ead-bba5-4774baab84eb",
        "colab": {
          "base_uri": "https://localhost:8080/"
        }
      },
      "source": [
        "print(\"{}%\".format(sum(csv['LANE_CNT'].isna())/len(csv) *100))\n",
        "#la colonne Lane_CNT a 56% des valeurs nan, on peut remplir avec moyen valeurs, mais ce n'est pas utile. \n",
        "#en considerant de l'importance de la description de cette colonne et les nombreux des nan valeurs, je vais l'enlever\n",
        "\n",
        "#this feature has around 56% nan values, though we can fill up with values such as mean, this would be futile.\n",
        "\n",
        "#Besides, considering the description of this feature, I feel removing this whole column is the best way possible.\n",
        "csv = csv.drop(['LANE_CNT'],axis=1)"
      ],
      "execution_count": 354,
      "outputs": [
        {
          "output_type": "stream",
          "text": [
            "55.85171712038232%\n"
          ],
          "name": "stdout"
        }
      ]
    },
    {
      "cell_type": "markdown",
      "metadata": {
        "id": "Uo7AxyaffJVr"
      },
      "source": [
        "2.DOORING_I\n",
        "\n",
        "\n",
        "\n"
      ]
    },
    {
      "cell_type": "code",
      "metadata": {
        "id": "6HadSuRbZtGi",
        "outputId": "95e13352-1937-4827-bb8f-11d335ebe8ec",
        "colab": {
          "base_uri": "https://localhost:8080/"
        }
      },
      "source": [
        "#DOORING_I : Whether crash involved a motor vehicle occupant opening a door into the travel path of a bicyclist, causing a crash\n",
        "# A mon avis cette colonne est au milieu de deux: utile vs inutile, donc je ne l'avais pas enlevée.\n",
        "\n",
        "# c'est de trouver qu'est-ce qu'elle contient?\n",
        "print('{}% des valeurs sont nulles'.format(csv['DOORING_I'].isna().sum()/len(csv)*100))\n",
        "\n",
        "#enlèvement\n",
        "csv = csv.drop(['DOORING_I'],axis=1)"
      ],
      "execution_count": 355,
      "outputs": [
        {
          "output_type": "stream",
          "text": [
            "99.66609381025302% des valeurs sont nulles\n"
          ],
          "name": "stdout"
        }
      ]
    },
    {
      "cell_type": "markdown",
      "metadata": {
        "id": "2wHXpsPpfU8N"
      },
      "source": [
        "3.WORK_ZONE_I: \"Whether the crash occurred in an active work zone\".\n",
        "A mon avis, cette colonne est importante, mais, voyons voir combien sont NaN."
      ]
    },
    {
      "cell_type": "code",
      "metadata": {
        "id": "67Ikbs6tZ6n3",
        "outputId": "9a0f6e57-40fe-41b4-b031-704bbda22cf0",
        "colab": {
          "base_uri": "https://localhost:8080/"
        }
      },
      "source": [
        "# Il semble que WORK_ZONE_I ait des valeurs manquant, mais combien ?\n",
        "print('{}%'.format(csv['WORK_ZONE_I'].isna().sum()/len(csv)*100)) #99.3%\n",
        "# enlèvement\n",
        "csv = csv.drop('WORK_ZONE_I',axis=1)\n",
        "#sanity check\n",
        "print(np.unique(csv.columns == 'WORK_ZONE_I'))"
      ],
      "execution_count": 356,
      "outputs": [
        {
          "output_type": "stream",
          "text": [
            "99.33441663378872%\n",
            "[False]\n"
          ],
          "name": "stdout"
        }
      ]
    },
    {
      "cell_type": "markdown",
      "metadata": {
        "id": "GnY02fbMf0xd"
      },
      "source": [
        "Les suivantes 2 ( **4 & 5**)\n",
        "WORKERS_ZONE_TYPE, WORKERS_PRESENT_I sont pertinent lorsque WORK_ZONE_I existe. En tant qu'on vient de l'enlever, ces deux sont intuile\n",
        "\n",
        "\n"
      ]
    },
    {
      "cell_type": "code",
      "metadata": {
        "id": "atMm-EongNq1"
      },
      "source": [
        "#enlèvement\n",
        "csv = csv.drop(['WORK_ZONE_TYPE','WORKERS_PRESENT_I'],axis=1)"
      ],
      "execution_count": 357,
      "outputs": []
    },
    {
      "cell_type": "code",
      "metadata": {
        "id": "mNAYMCfNgtnv",
        "outputId": "fb144497-54eb-4d37-f043-1ef898b0f882",
        "colab": {
          "base_uri": "https://localhost:8080/"
        }
      },
      "source": [
        "#on a descendu trop, donc il vaut mieux si on voit quelles sont les colonnes existent toujours a gérer pour qu'on n'a pas besoin de monter pas trop. \n",
        "csv.isna().any()"
      ],
      "execution_count": 358,
      "outputs": [
        {
          "output_type": "execute_result",
          "data": {
            "text/plain": [
              "CRASH_DATE                       False\n",
              "POSTED_SPEED_LIMIT               False\n",
              "TRAFFIC_CONTROL_DEVICE           False\n",
              "DEVICE_CONDITION                 False\n",
              "WEATHER_CONDITION                False\n",
              "LIGHTING_CONDITION               False\n",
              "FIRST_CRASH_TYPE                 False\n",
              "TRAFFICWAY_TYPE                  False\n",
              "ALIGNMENT                        False\n",
              "ROADWAY_SURFACE_COND             False\n",
              "ROAD_DEFECT                      False\n",
              "CRASH_TYPE                       False\n",
              "INTERSECTION_RELATED_I           False\n",
              "DAMAGE                           False\n",
              "PRIM_CONTRIBUTORY_CAUSE          False\n",
              "SEC_CONTRIBUTORY_CAUSE           False\n",
              "NUM_UNITS                        False\n",
              "MOST_SEVERE_INJURY                True\n",
              "INJURIES_TOTAL                    True\n",
              "INJURIES_FATAL                    True\n",
              "INJURIES_INCAPACITATING           True\n",
              "INJURIES_NON_INCAPACITATING       True\n",
              "INJURIES_REPORTED_NOT_EVIDENT     True\n",
              "INJURIES_NO_INDICATION            True\n",
              "INJURIES_UNKNOWN                  True\n",
              "LATITUDE                         False\n",
              "LONGITUDE                        False\n",
              "LOCATION                         False\n",
              "dtype: bool"
            ]
          },
          "metadata": {
            "tags": []
          },
          "execution_count": 358
        }
      ]
    },
    {
      "cell_type": "markdown",
      "metadata": {
        "id": "_fvObIYLhgIU"
      },
      "source": [
        " 6.MOST_SEVERE_INJURY:"
      ]
    },
    {
      "cell_type": "code",
      "metadata": {
        "id": "-cJ18CAQYj-P",
        "outputId": "ce7f6e34-aef4-4bee-94ff-beea16899d69",
        "colab": {
          "base_uri": "https://localhost:8080/"
        }
      },
      "source": [
        "print('{} cells ont des valeurs NaN'.format(csv['MOST_SEVERE_INJURY'].isna().sum()))\n",
        "\n",
        "#enlèvement\n",
        "csv = csv.drop(csv.iloc[((np.where(csv['MOST_SEVERE_INJURY'].isna().values==True)))].index)"
      ],
      "execution_count": 359,
      "outputs": [
        {
          "output_type": "stream",
          "text": [
            "892 cells ont des valeurs NaN\n"
          ],
          "name": "stdout"
        }
      ]
    },
    {
      "cell_type": "markdown",
      "metadata": {
        "id": "gBLLkIKNqWG_"
      },
      "source": [
        "UPDATE(noticed minutes before commiting to github): En fait, enlevant les valeurs nulls dans la colonne MOST_SEVERE_INJURY a un effet sur les suivantes: INJURIES_TOTAL, etc. I keep the following cells for you to understand how I handle the missing values in categorical type of data."
      ]
    },
    {
      "cell_type": "markdown",
      "metadata": {
        "id": "4ngO2787hyfr"
      },
      "source": [
        "7.INJURIES_TOTAL"
      ]
    },
    {
      "cell_type": "code",
      "metadata": {
        "id": "Q4jA8tpTcdp0",
        "outputId": "1dd3c1d5-84fb-4e57-8286-4ef82d283597",
        "colab": {
          "base_uri": "https://localhost:8080/"
        }
      },
      "source": [
        "# dans cette cellule, je vais gérer des valeurs manquant dans la colonne INJURIES_TOTAL.\n",
        "\n",
        "#combien sont nulles?\n",
        "print('{}%\\n'.format(csv['INJURIES_TOTAL'].isna().sum()/len(csv)*100)) # 0.2% pourcent sont nulles, c'est bon, mais les valeurs sont facilement remplis, comment?\n",
        "\n",
        "#INJURIES_TOTAL- implique combien de personnes sont touché\n",
        "# Je constate que, INJURIES_TOTAL est relié a la colonne 'damage'.\n",
        "\n",
        "#combien de types de damage?\n",
        "print(csv['DAMAGE'].value_counts()) # 3types, a priori, il semble que le plus cher le dommage, les nombreux de mondes sont touché. Mais il faut confirmer.\n"
      ],
      "execution_count": 360,
      "outputs": [
        {
          "output_type": "stream",
          "text": [
            "0.0%\n",
            "\n",
            "OVER $1,500      256567\n",
            "$501 - $1,500    132560\n",
            "$500 OR LESS      58610\n",
            "Name: DAMAGE, dtype: int64\n"
          ],
          "name": "stdout"
        }
      ]
    },
    {
      "cell_type": "code",
      "metadata": {
        "id": "87Q_pvWDoAuT",
        "outputId": "c63ca492-f162-4631-d7c3-210d6ce211e7",
        "colab": {
          "base_uri": "https://localhost:8080/"
        }
      },
      "source": [
        "# verifier combien de mondes dont 'damage' est au-dela $1500 sont touché\n",
        "print('Over $1500:\\n',(csv['INJURIES_TOTAL'][csv['DAMAGE']=='OVER $1,500']).value_counts()) # beaucoup de 0s !"
      ],
      "execution_count": 361,
      "outputs": [
        {
          "output_type": "stream",
          "text": [
            "Over $1500:\n",
            " 0.0     217097\n",
            "1.0      27696\n",
            "2.0       7718\n",
            "3.0       2541\n",
            "4.0        926\n",
            "5.0        341\n",
            "6.0        138\n",
            "7.0         55\n",
            "8.0         19\n",
            "9.0         14\n",
            "10.0         8\n",
            "11.0         3\n",
            "15.0         3\n",
            "13.0         2\n",
            "21.0         2\n",
            "12.0         2\n",
            "16.0         1\n",
            "19.0         1\n",
            "Name: INJURIES_TOTAL, dtype: int64\n"
          ],
          "name": "stdout"
        }
      ]
    },
    {
      "cell_type": "code",
      "metadata": {
        "id": "NiXIwRyJn-OX",
        "outputId": "a185f6e5-c9f1-45ba-ddb6-2b11860e92c5",
        "colab": {
          "base_uri": "https://localhost:8080/"
        }
      },
      "source": [
        "# vérifier combien de mondes dont 'damage' est entre $501 - $1500 sont touché\n",
        "print('entre $501 - $1500:\\n',(csv['INJURIES_TOTAL'][csv['DAMAGE']=='$501 - $1,500']).value_counts())"
      ],
      "execution_count": 362,
      "outputs": [
        {
          "output_type": "stream",
          "text": [
            "entre $501 - $1500:\n",
            " 0.0     124571\n",
            "1.0       6592\n",
            "2.0       1019\n",
            "3.0        254\n",
            "4.0         74\n",
            "5.0         33\n",
            "6.0         11\n",
            "7.0          2\n",
            "11.0         2\n",
            "15.0         1\n",
            "10.0         1\n",
            "Name: INJURIES_TOTAL, dtype: int64\n"
          ],
          "name": "stdout"
        }
      ]
    },
    {
      "cell_type": "code",
      "metadata": {
        "id": "3JGsaM-GoITN",
        "outputId": "18e3c2fd-116a-44dc-859b-6d72f5e3b2be",
        "colab": {
          "base_uri": "https://localhost:8080/"
        }
      },
      "source": [
        "# vérifier combien de mondes, dont 'damage' est entre '$500 OR LESS', sont touché\n",
        "print('$500 OR LESS:\\n',(csv['INJURIES_TOTAL'][csv['DAMAGE']=='$501 - $1,500']).value_counts())\n",
        "\n",
        "\n",
        "# en considerant les 3 dernieres cellules, cela implique clairement que les valeurs ont beaucoup de variance, donc\n",
        "# pour conclure: 'damage' et 'injuries_total' ne sont pas correlés. Et considerant que les valeurs NaN ne constituent que 0.2%, je vais l'enlever les 'rows'.\n",
        "\n",
        "csv = csv.drop(csv.iloc[((np.where(csv['INJURIES_TOTAL'].isna().values==True)))].index)\n",
        "#sanity check\n",
        "len(csv) #parfait"
      ],
      "execution_count": 363,
      "outputs": [
        {
          "output_type": "stream",
          "text": [
            "$500 OR LESS:\n",
            " 0.0     124571\n",
            "1.0       6592\n",
            "2.0       1019\n",
            "3.0        254\n",
            "4.0         74\n",
            "5.0         33\n",
            "6.0         11\n",
            "7.0          2\n",
            "11.0         2\n",
            "15.0         1\n",
            "10.0         1\n",
            "Name: INJURIES_TOTAL, dtype: int64\n"
          ],
          "name": "stdout"
        },
        {
          "output_type": "execute_result",
          "data": {
            "text/plain": [
              "447737"
            ]
          },
          "metadata": {
            "tags": []
          },
          "execution_count": 363
        }
      ]
    },
    {
      "cell_type": "markdown",
      "metadata": {
        "id": "uhDZjnAhh7PI"
      },
      "source": [
        "Status Check"
      ]
    },
    {
      "cell_type": "code",
      "metadata": {
        "id": "yCYTNoOzh6py",
        "outputId": "3b6c9811-4b35-4af0-e0b1-eaad68315af3",
        "colab": {
          "base_uri": "https://localhost:8080/"
        }
      },
      "source": [
        "csv.isna().any()\n",
        "# vous vous demandez qu'on n'avait fini que gérer 7 colonnes mais toutes les colonnes sont propres, comment cela possible? rep: 'INJURIES_TOTAL', \n",
        "# the other columns which has had null values in the columns are as same as the INJURIES_TOTAL. \n",
        "# Simply put, removing the null values in INJURIES_TOTAL removes the nulls in all other related columns too. Because it is 'TOTAL'."
      ],
      "execution_count": 364,
      "outputs": [
        {
          "output_type": "execute_result",
          "data": {
            "text/plain": [
              "CRASH_DATE                       False\n",
              "POSTED_SPEED_LIMIT               False\n",
              "TRAFFIC_CONTROL_DEVICE           False\n",
              "DEVICE_CONDITION                 False\n",
              "WEATHER_CONDITION                False\n",
              "LIGHTING_CONDITION               False\n",
              "FIRST_CRASH_TYPE                 False\n",
              "TRAFFICWAY_TYPE                  False\n",
              "ALIGNMENT                        False\n",
              "ROADWAY_SURFACE_COND             False\n",
              "ROAD_DEFECT                      False\n",
              "CRASH_TYPE                       False\n",
              "INTERSECTION_RELATED_I           False\n",
              "DAMAGE                           False\n",
              "PRIM_CONTRIBUTORY_CAUSE          False\n",
              "SEC_CONTRIBUTORY_CAUSE           False\n",
              "NUM_UNITS                        False\n",
              "MOST_SEVERE_INJURY               False\n",
              "INJURIES_TOTAL                   False\n",
              "INJURIES_FATAL                   False\n",
              "INJURIES_INCAPACITATING          False\n",
              "INJURIES_NON_INCAPACITATING      False\n",
              "INJURIES_REPORTED_NOT_EVIDENT    False\n",
              "INJURIES_NO_INDICATION           False\n",
              "INJURIES_UNKNOWN                 False\n",
              "LATITUDE                         False\n",
              "LONGITUDE                        False\n",
              "LOCATION                         False\n",
              "dtype: bool"
            ]
          },
          "metadata": {
            "tags": []
          },
          "execution_count": 364
        }
      ]
    },
    {
      "cell_type": "code",
      "metadata": {
        "id": "V7yglH1glpmE",
        "outputId": "9f0c3da4-00be-481f-8ad2-69d0bb6ee9e7",
        "colab": {
          "base_uri": "https://localhost:8080/"
        }
      },
      "source": [
        "# Voyons voir les mots magiques\n",
        "print('{}% ont des colonnes ont NaN'.format(round(sum(csv.isna().any())/len(csv.columns)*100,2))) #C'EST BON! #ALL CAPS!: DONALD TRUMP'S INSPIRATIONS :D"
      ],
      "execution_count": 365,
      "outputs": [
        {
          "output_type": "stream",
          "text": [
            "0.0% ont des colonnes ont NaN\n"
          ],
          "name": "stdout"
        }
      ]
    },
    {
      "cell_type": "code",
      "metadata": {
        "id": "3jBLRq83nzBh",
        "outputId": "2d7c5638-7f4f-4977-c8b6-589b134ffd65",
        "colab": {
          "base_uri": "https://localhost:8080/",
          "height": 428
        }
      },
      "source": [
        "csv.tail()"
      ],
      "execution_count": 366,
      "outputs": [
        {
          "output_type": "execute_result",
          "data": {
            "text/html": [
              "<div>\n",
              "<style scoped>\n",
              "    .dataframe tbody tr th:only-of-type {\n",
              "        vertical-align: middle;\n",
              "    }\n",
              "\n",
              "    .dataframe tbody tr th {\n",
              "        vertical-align: top;\n",
              "    }\n",
              "\n",
              "    .dataframe thead th {\n",
              "        text-align: right;\n",
              "    }\n",
              "</style>\n",
              "<table border=\"1\" class=\"dataframe\">\n",
              "  <thead>\n",
              "    <tr style=\"text-align: right;\">\n",
              "      <th></th>\n",
              "      <th>CRASH_DATE</th>\n",
              "      <th>POSTED_SPEED_LIMIT</th>\n",
              "      <th>TRAFFIC_CONTROL_DEVICE</th>\n",
              "      <th>DEVICE_CONDITION</th>\n",
              "      <th>WEATHER_CONDITION</th>\n",
              "      <th>LIGHTING_CONDITION</th>\n",
              "      <th>FIRST_CRASH_TYPE</th>\n",
              "      <th>TRAFFICWAY_TYPE</th>\n",
              "      <th>ALIGNMENT</th>\n",
              "      <th>ROADWAY_SURFACE_COND</th>\n",
              "      <th>ROAD_DEFECT</th>\n",
              "      <th>CRASH_TYPE</th>\n",
              "      <th>INTERSECTION_RELATED_I</th>\n",
              "      <th>DAMAGE</th>\n",
              "      <th>PRIM_CONTRIBUTORY_CAUSE</th>\n",
              "      <th>SEC_CONTRIBUTORY_CAUSE</th>\n",
              "      <th>NUM_UNITS</th>\n",
              "      <th>MOST_SEVERE_INJURY</th>\n",
              "      <th>INJURIES_TOTAL</th>\n",
              "      <th>INJURIES_FATAL</th>\n",
              "      <th>INJURIES_INCAPACITATING</th>\n",
              "      <th>INJURIES_NON_INCAPACITATING</th>\n",
              "      <th>INJURIES_REPORTED_NOT_EVIDENT</th>\n",
              "      <th>INJURIES_NO_INDICATION</th>\n",
              "      <th>INJURIES_UNKNOWN</th>\n",
              "      <th>LATITUDE</th>\n",
              "      <th>LONGITUDE</th>\n",
              "      <th>LOCATION</th>\n",
              "    </tr>\n",
              "  </thead>\n",
              "  <tbody>\n",
              "    <tr>\n",
              "      <th>448624</th>\n",
              "      <td>07/28/2020 04:00:00 PM</td>\n",
              "      <td>30</td>\n",
              "      <td>NO CONTROLS</td>\n",
              "      <td>NO CONTROLS</td>\n",
              "      <td>CLEAR</td>\n",
              "      <td>DAYLIGHT</td>\n",
              "      <td>PARKED MOTOR VEHICLE</td>\n",
              "      <td>ONE-WAY</td>\n",
              "      <td>STRAIGHT AND LEVEL</td>\n",
              "      <td>DRY</td>\n",
              "      <td>NO DEFECTS</td>\n",
              "      <td>INJURY AND / OR TOW DUE TO CRASH</td>\n",
              "      <td>N</td>\n",
              "      <td>OVER $1,500</td>\n",
              "      <td>FAILING TO REDUCE SPEED TO AVOID CRASH</td>\n",
              "      <td>FAILING TO REDUCE SPEED TO AVOID CRASH</td>\n",
              "      <td>2</td>\n",
              "      <td>REPORTED, NOT EVIDENT</td>\n",
              "      <td>1.0</td>\n",
              "      <td>0.0</td>\n",
              "      <td>0.0</td>\n",
              "      <td>0.0</td>\n",
              "      <td>1.0</td>\n",
              "      <td>0.0</td>\n",
              "      <td>0.0</td>\n",
              "      <td>41.859162</td>\n",
              "      <td>-87.721164</td>\n",
              "      <td>POINT (-87.721164123424 41.859161813268)</td>\n",
              "    </tr>\n",
              "    <tr>\n",
              "      <th>448625</th>\n",
              "      <td>07/29/2020 02:00:00 PM</td>\n",
              "      <td>30</td>\n",
              "      <td>NO CONTROLS</td>\n",
              "      <td>NO CONTROLS</td>\n",
              "      <td>CLEAR</td>\n",
              "      <td>DAYLIGHT</td>\n",
              "      <td>PARKED MOTOR VEHICLE</td>\n",
              "      <td>ONE-WAY</td>\n",
              "      <td>STRAIGHT AND LEVEL</td>\n",
              "      <td>DRY</td>\n",
              "      <td>NO DEFECTS</td>\n",
              "      <td>NO INJURY / DRIVE AWAY</td>\n",
              "      <td>N</td>\n",
              "      <td>$501 - $1,500</td>\n",
              "      <td>UNABLE TO DETERMINE</td>\n",
              "      <td>NOT APPLICABLE</td>\n",
              "      <td>2</td>\n",
              "      <td>NO INDICATION OF INJURY</td>\n",
              "      <td>0.0</td>\n",
              "      <td>0.0</td>\n",
              "      <td>0.0</td>\n",
              "      <td>0.0</td>\n",
              "      <td>0.0</td>\n",
              "      <td>1.0</td>\n",
              "      <td>0.0</td>\n",
              "      <td>41.805737</td>\n",
              "      <td>-87.609784</td>\n",
              "      <td>POINT (-87.609784032292 41.805736682295)</td>\n",
              "    </tr>\n",
              "    <tr>\n",
              "      <th>448626</th>\n",
              "      <td>07/29/2020 10:50:00 AM</td>\n",
              "      <td>30</td>\n",
              "      <td>TRAFFIC SIGNAL</td>\n",
              "      <td>FUNCTIONING PROPERLY</td>\n",
              "      <td>CLEAR</td>\n",
              "      <td>DAYLIGHT</td>\n",
              "      <td>REAR END</td>\n",
              "      <td>DIVIDED - W/MEDIAN (NOT RAISED)</td>\n",
              "      <td>STRAIGHT AND LEVEL</td>\n",
              "      <td>DRY</td>\n",
              "      <td>NO DEFECTS</td>\n",
              "      <td>INJURY AND / OR TOW DUE TO CRASH</td>\n",
              "      <td>Y</td>\n",
              "      <td>OVER $1,500</td>\n",
              "      <td>DISTRACTION - OTHER ELECTRONIC DEVICE (NAVIGAT...</td>\n",
              "      <td>NOT APPLICABLE</td>\n",
              "      <td>2</td>\n",
              "      <td>REPORTED, NOT EVIDENT</td>\n",
              "      <td>1.0</td>\n",
              "      <td>0.0</td>\n",
              "      <td>0.0</td>\n",
              "      <td>0.0</td>\n",
              "      <td>1.0</td>\n",
              "      <td>2.0</td>\n",
              "      <td>0.0</td>\n",
              "      <td>41.924824</td>\n",
              "      <td>-87.707553</td>\n",
              "      <td>POINT (-87.707552955117 41.924824383756)</td>\n",
              "    </tr>\n",
              "    <tr>\n",
              "      <th>448627</th>\n",
              "      <td>07/29/2020 06:30:00 PM</td>\n",
              "      <td>30</td>\n",
              "      <td>NO CONTROLS</td>\n",
              "      <td>NO CONTROLS</td>\n",
              "      <td>CLEAR</td>\n",
              "      <td>DAYLIGHT</td>\n",
              "      <td>PARKED MOTOR VEHICLE</td>\n",
              "      <td>NOT DIVIDED</td>\n",
              "      <td>STRAIGHT AND LEVEL</td>\n",
              "      <td>DRY</td>\n",
              "      <td>NO DEFECTS</td>\n",
              "      <td>NO INJURY / DRIVE AWAY</td>\n",
              "      <td>N</td>\n",
              "      <td>$501 - $1,500</td>\n",
              "      <td>UNABLE TO DETERMINE</td>\n",
              "      <td>UNABLE TO DETERMINE</td>\n",
              "      <td>2</td>\n",
              "      <td>NO INDICATION OF INJURY</td>\n",
              "      <td>0.0</td>\n",
              "      <td>0.0</td>\n",
              "      <td>0.0</td>\n",
              "      <td>0.0</td>\n",
              "      <td>0.0</td>\n",
              "      <td>1.0</td>\n",
              "      <td>0.0</td>\n",
              "      <td>41.909896</td>\n",
              "      <td>-87.652772</td>\n",
              "      <td>POINT (-87.65277243899 41.909895530398)</td>\n",
              "    </tr>\n",
              "    <tr>\n",
              "      <th>448628</th>\n",
              "      <td>01/06/2020 08:30:00 AM</td>\n",
              "      <td>15</td>\n",
              "      <td>NO CONTROLS</td>\n",
              "      <td>NO CONTROLS</td>\n",
              "      <td>CLEAR</td>\n",
              "      <td>DAYLIGHT</td>\n",
              "      <td>ANGLE</td>\n",
              "      <td>ALLEY</td>\n",
              "      <td>STRAIGHT AND LEVEL</td>\n",
              "      <td>DRY</td>\n",
              "      <td>NO DEFECTS</td>\n",
              "      <td>NO INJURY / DRIVE AWAY</td>\n",
              "      <td>N</td>\n",
              "      <td>$501 - $1,500</td>\n",
              "      <td>UNABLE TO DETERMINE</td>\n",
              "      <td>UNABLE TO DETERMINE</td>\n",
              "      <td>2</td>\n",
              "      <td>NO INDICATION OF INJURY</td>\n",
              "      <td>0.0</td>\n",
              "      <td>0.0</td>\n",
              "      <td>0.0</td>\n",
              "      <td>0.0</td>\n",
              "      <td>0.0</td>\n",
              "      <td>2.0</td>\n",
              "      <td>0.0</td>\n",
              "      <td>41.865595</td>\n",
              "      <td>-87.623964</td>\n",
              "      <td>POINT (-87.62396444716 41.865594951208)</td>\n",
              "    </tr>\n",
              "  </tbody>\n",
              "</table>\n",
              "</div>"
            ],
            "text/plain": [
              "                    CRASH_DATE  ...                                  LOCATION\n",
              "448624  07/28/2020 04:00:00 PM  ...  POINT (-87.721164123424 41.859161813268)\n",
              "448625  07/29/2020 02:00:00 PM  ...  POINT (-87.609784032292 41.805736682295)\n",
              "448626  07/29/2020 10:50:00 AM  ...  POINT (-87.707552955117 41.924824383756)\n",
              "448627  07/29/2020 06:30:00 PM  ...   POINT (-87.65277243899 41.909895530398)\n",
              "448628  01/06/2020 08:30:00 AM  ...   POINT (-87.62396444716 41.865594951208)\n",
              "\n",
              "[5 rows x 28 columns]"
            ]
          },
          "metadata": {
            "tags": []
          },
          "execution_count": 366
        }
      ]
    },
    {
      "cell_type": "markdown",
      "metadata": {
        "id": "11wFZ-AorqQP"
      },
      "source": [
        "#Code pour exporter le dataset nettoyé (sans avoir nettoyé complètement la colonne INTERSECTION_RELATED_I)\n"
      ]
    },
    {
      "cell_type": "code",
      "metadata": {
        "id": "4ZG3o_HBroyZ"
      },
      "source": [
        "#Merci d'executer cette cellule et regarder les paramètres a gauche extrème. Le dataset y serait.\n",
        "csv_export = csv.to_csv('properly_cleaned_dataset_chicago.csv',index=False)"
      ],
      "execution_count": 372,
      "outputs": []
    },
    {
      "cell_type": "markdown",
      "metadata": {
        "id": "CH8pJO7jmPj9"
      },
      "source": [
        "# IMPORTANT: Je n'ai pas avancé sur INTERSECTION_RELATED_I en tant que je n'avais pas trouvé une bonne moyenne (efficace) de les remplir. Au pire, on évite de le parler dans cette présentation et la remplit après. "
      ]
    },
    {
      "cell_type": "markdown",
      "metadata": {
        "id": "0s8_lVrKec0L"
      },
      "source": [
        "#A propos de ***gestion*** des valeurs manquant dans la colonne 'INTERSECTION_RELATED_I'."
      ]
    },
    {
      "cell_type": "code",
      "metadata": {
        "id": "97K8RnvplgXx",
        "outputId": "fec6044f-8fc1-486f-8068-160820013ebb",
        "colab": {
          "base_uri": "https://localhost:8080/"
        }
      },
      "source": [
        "print('{}% of values are null'.format(round(sum(csv['INTERSECTION_RELATED_I'].isna())/len(csv)*100),2))\n",
        "# Road intersection is one of the extremely important criteria, but there more than 78% null values!. Crazy indeed. Challenging & Interesting task. \n",
        "# Note : The result below would be 0%. That is because of the fact that I filled with \"yet_to_fill\" for monitoring where I left off.\n",
        "# Must not be dropped and cannot be filled randomly. So what ?\n",
        "\n",
        "# Now it is the time to explain how I handle the missing values in INTERSECTION_SECTION_I. \n",
        "\n",
        "# After couple of hours of research I found out a nice website geonames.org, which provide the solution to address the problem\n",
        "# which problem?!: handling the missing data (categorical) related to intersection of the road where the accident took place nearby.\n",
        "# How does this website help?: this helps in identifying whether there is any intersection close by(100 meters I believe) using the coordinates.\n",
        "# How to do it? they provide a web-based solution to find that. So that is basically a web scraping to find out the result given the coordinates.\n",
        "# How to web-scrap it? Beautifulsoup. "
      ],
      "execution_count": null,
      "outputs": [
        {
          "output_type": "stream",
          "text": [
            "0% of values are null\n"
          ],
          "name": "stdout"
        }
      ]
    },
    {
      "cell_type": "markdown",
      "metadata": {
        "id": "J4WrDycNgG4w"
      },
      "source": [
        "# Here me out the complex part. Modus-operandi: \n"
      ]
    },
    {
      "cell_type": "markdown",
      "metadata": {
        "id": "W7pcpRPChaOx"
      },
      "source": [
        "# 1. I repeat. The goal is to find out whether the INTERESECTION_RELATED is true or not, so what do we need? the coordinates. There is no point in finding the result when there is already data. So I take only the coordinates only when the INTERESECTION_RELATED is NaN. Combine the latitude and longitude.\n",
        "# 2. Make URLs out of the coordinates.\n",
        "# 3. Pass it as http request the each URLs\n",
        "# 4. Parse the http response.\n",
        "# 5. Look for whether there is any data related to intersection, fill 'Y' if yes, fill 'N' if no.\n",
        "\n",
        "\n",
        "\n",
        "The caveat of this approach:\n",
        "1. There are limitations such as, restriction on the number of request i.e 1000/hour. Meaning, the api automatically throws out an error message when we exceed 1000 INTERESECTION_RELATED cells. Indeed, it is not feasible if it is the case. I have started finding out work-around. Will update.\n",
        "2. Problem on execution time: parsing is half a problem but the rest is on Colab. Why though? simply put, the code we run firstly go to Colab server then  as url (request), so it takes a considerable amount of time. Cleaning on a local machine is the best option, so I took this route. To make you aware of what is the code, I have provided the code below. "
      ]
    },
    {
      "cell_type": "code",
      "metadata": {
        "id": "XbgddGK8lvIz"
      },
      "source": [
        "#filling of missing data\n",
        "csv['INTERSECTION_RELATED_I'] = csv['INTERSECTION_RELATED_I'].fillna(0)"
      ],
      "execution_count": null,
      "outputs": []
    },
    {
      "cell_type": "code",
      "metadata": {
        "id": "wn9tGl8oIp8l"
      },
      "source": [
        "nan_index = np.where(csv['INTERSECTION_RELATED_I'].values==0)"
      ],
      "execution_count": null,
      "outputs": []
    },
    {
      "cell_type": "code",
      "metadata": {
        "id": "4NVzpzlly9BD"
      },
      "source": [
        "def webscraping(latitude,longitude):\n",
        "    a = \"http://api.geonames.org/findNearestIntersection?lat={}&lng={}&username=venk\".format(latitude,longitude)\n",
        "\n",
        "    page = requests.get(a)\n",
        "    bsp = BeautifulSoup(page.content,'html.parser')\n",
        "    return bsp.prettify().split()[6]=='<intersection>'\n"
      ],
      "execution_count": null,
      "outputs": []
    },
    {
      "cell_type": "code",
      "metadata": {
        "id": "gUow15Yrzsi5"
      },
      "source": [
        "%%time\n",
        "mm =[]\n",
        "for i in range(10):\n",
        "  \n",
        "  csv['INTERSECTION_RELATED_I'].iloc[nan_index[0][i]]=(webscraping(csv['LATITUDE'][i],csv['LONGITUDE'][i]))"
      ],
      "execution_count": 368,
      "outputs": []
    }
  ]
}