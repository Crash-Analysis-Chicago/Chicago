{
  "nbformat": 4,
  "nbformat_minor": 0,
  "metadata": {
    "colab": {
      "name": "JDS- Venkatesh.ipynb",
      "provenance": [],
      "collapsed_sections": [],
      "authorship_tag": "ABX9TyPiI+l2pCOBzBj03KbTMEWV",
      "include_colab_link": true
    },
    "kernelspec": {
      "name": "python3",
      "display_name": "Python 3"
    }
  },
  "cells": [
    {
      "cell_type": "markdown",
      "metadata": {
        "id": "view-in-github",
        "colab_type": "text"
      },
      "source": [
        "<a href=\"https://colab.research.google.com/github/Crash-Analysis-Chicago/Chicago/blob/main/Venkatesh/JDS_Venkatesh.ipynb\" target=\"_parent\"><img src=\"https://colab.research.google.com/assets/colab-badge.svg\" alt=\"Open In Colab\"/></a>"
      ]
    },
    {
      "cell_type": "code",
      "metadata": {
        "id": "64MObOxnSEwi"
      },
      "source": [
        "import pandas as pd\n",
        "import matplotlib.pyplot as plt\n",
        "import numpy as np\n",
        "from bs4 import BeautifulSoup, SoupStrainer\n",
        "\n",
        "import requests"
      ],
      "execution_count": null,
      "outputs": []
    },
    {
      "cell_type": "code",
      "metadata": {
        "id": "ZLsJWS7r65vj",
        "outputId": "8e97d99d-6849-469a-eb3c-4233faa21894",
        "colab": {
          "base_uri": "https://localhost:8080/"
        }
      },
      "source": [
        "from google.colab import drive\n",
        "drive.mount('../content/drive/')\n",
        " \n",
        "\n",
        "# colab demande de 'uploader' le dataset pour chaque démarrage. Pour utiliser donc facilement le dataset, uploadez le dataset sur Google Drive.\n",
        "# pour bien réussir cela, suivez les étape ci-dessous\n",
        "# étape 1: créez un dossier appelé 'Projet-JDS' ou comme vous voulez sur Google Drive et deposez le dataset dans ce dossier \n",
        "# 2: executez cette cellule maintenant, si tout va bien, il vous demande de mot de passe\n",
        "# 3: Choissez un compte google pour générer le mot de passe\n",
        "# 4: Collez le mot de passe. C'est fait.\n",
        "\n",
        "\n",
        "#Normalement ce serait bon, sinon, n'hesitez pas à m'écrire\n",
        "\n",
        "# Commande Bash pour copier le contenu du dossier Projet-JDS dans le même répertoire que ce notebook\n",
        "!cp -r /content/drive/My\\ Drive/Projet-JDS/* /content"
      ],
      "execution_count": null,
      "outputs": [
        {
          "output_type": "stream",
          "text": [
            "Drive already mounted at ../content/drive/; to attempt to forcibly remount, call drive.mount(\"../content/drive/\", force_remount=True).\n"
          ],
          "name": "stdout"
        }
      ]
    },
    {
      "cell_type": "code",
      "metadata": {
        "id": "0Oxmv3nzXblI",
        "outputId": "8f88d925-d179-4c82-eee4-2c3922323058",
        "colab": {
          "base_uri": "https://localhost:8080/"
        }
      },
      "source": [
        "csv = pd.read_csv('latest_cleaned.csv')\n",
        "csv.columns"
      ],
      "execution_count": null,
      "outputs": [
        {
          "output_type": "execute_result",
          "data": {
            "text/plain": [
              "Index(['CRASH_RECORD_ID', 'RD_NO', 'CRASH_DATE_EST_I', 'CRASH_DATE',\n",
              "       'POSTED_SPEED_LIMIT', 'TRAFFIC_CONTROL_DEVICE', 'DEVICE_CONDITION',\n",
              "       'WEATHER_CONDITION', 'LIGHTING_CONDITION', 'FIRST_CRASH_TYPE',\n",
              "       'TRAFFICWAY_TYPE', 'LANE_CNT', 'ALIGNMENT', 'ROADWAY_SURFACE_COND',\n",
              "       'ROAD_DEFECT', 'REPORT_TYPE', 'CRASH_TYPE', 'INTERSECTION_RELATED_I',\n",
              "       'NOT_RIGHT_OF_WAY_I', 'HIT_AND_RUN_I', 'DAMAGE', 'DATE_POLICE_NOTIFIED',\n",
              "       'PRIM_CONTRIBUTORY_CAUSE', 'SEC_CONTRIBUTORY_CAUSE', 'STREET_NO',\n",
              "       'STREET_DIRECTION', 'STREET_NAME', 'BEAT_OF_OCCURRENCE',\n",
              "       'PHOTOS_TAKEN_I', 'STATEMENTS_TAKEN_I', 'DOORING_I', 'WORK_ZONE_I',\n",
              "       'WORK_ZONE_TYPE', 'WORKERS_PRESENT_I', 'NUM_UNITS',\n",
              "       'MOST_SEVERE_INJURY', 'INJURIES_TOTAL', 'INJURIES_FATAL',\n",
              "       'INJURIES_INCAPACITATING', 'INJURIES_NON_INCAPACITATING',\n",
              "       'INJURIES_REPORTED_NOT_EVIDENT', 'INJURIES_NO_INDICATION',\n",
              "       'INJURIES_UNKNOWN', 'CRASH_HOUR', 'CRASH_DAY_OF_WEEK', 'CRASH_MONTH',\n",
              "       'LATITUDE', 'LONGITUDE', 'LOCATION'],\n",
              "      dtype='object')"
            ]
          },
          "metadata": {
            "tags": []
          },
          "execution_count": 38
        }
      ]
    },
    {
      "cell_type": "code",
      "metadata": {
        "id": "IsLjM8BIXkVB",
        "outputId": "65a6a9e9-db1f-4466-b3df-d9b209942c77",
        "colab": {
          "base_uri": "https://localhost:8080/",
          "height": 462
        }
      },
      "source": [
        "csv.tail()"
      ],
      "execution_count": null,
      "outputs": [
        {
          "output_type": "execute_result",
          "data": {
            "text/html": [
              "<div>\n",
              "<style scoped>\n",
              "    .dataframe tbody tr th:only-of-type {\n",
              "        vertical-align: middle;\n",
              "    }\n",
              "\n",
              "    .dataframe tbody tr th {\n",
              "        vertical-align: top;\n",
              "    }\n",
              "\n",
              "    .dataframe thead th {\n",
              "        text-align: right;\n",
              "    }\n",
              "</style>\n",
              "<table border=\"1\" class=\"dataframe\">\n",
              "  <thead>\n",
              "    <tr style=\"text-align: right;\">\n",
              "      <th></th>\n",
              "      <th>CRASH_RECORD_ID</th>\n",
              "      <th>RD_NO</th>\n",
              "      <th>CRASH_DATE_EST_I</th>\n",
              "      <th>CRASH_DATE</th>\n",
              "      <th>POSTED_SPEED_LIMIT</th>\n",
              "      <th>TRAFFIC_CONTROL_DEVICE</th>\n",
              "      <th>DEVICE_CONDITION</th>\n",
              "      <th>WEATHER_CONDITION</th>\n",
              "      <th>LIGHTING_CONDITION</th>\n",
              "      <th>FIRST_CRASH_TYPE</th>\n",
              "      <th>TRAFFICWAY_TYPE</th>\n",
              "      <th>LANE_CNT</th>\n",
              "      <th>ALIGNMENT</th>\n",
              "      <th>ROADWAY_SURFACE_COND</th>\n",
              "      <th>ROAD_DEFECT</th>\n",
              "      <th>REPORT_TYPE</th>\n",
              "      <th>CRASH_TYPE</th>\n",
              "      <th>INTERSECTION_RELATED_I</th>\n",
              "      <th>NOT_RIGHT_OF_WAY_I</th>\n",
              "      <th>HIT_AND_RUN_I</th>\n",
              "      <th>DAMAGE</th>\n",
              "      <th>DATE_POLICE_NOTIFIED</th>\n",
              "      <th>PRIM_CONTRIBUTORY_CAUSE</th>\n",
              "      <th>SEC_CONTRIBUTORY_CAUSE</th>\n",
              "      <th>STREET_NO</th>\n",
              "      <th>STREET_DIRECTION</th>\n",
              "      <th>STREET_NAME</th>\n",
              "      <th>BEAT_OF_OCCURRENCE</th>\n",
              "      <th>PHOTOS_TAKEN_I</th>\n",
              "      <th>STATEMENTS_TAKEN_I</th>\n",
              "      <th>DOORING_I</th>\n",
              "      <th>WORK_ZONE_I</th>\n",
              "      <th>WORK_ZONE_TYPE</th>\n",
              "      <th>WORKERS_PRESENT_I</th>\n",
              "      <th>NUM_UNITS</th>\n",
              "      <th>MOST_SEVERE_INJURY</th>\n",
              "      <th>INJURIES_TOTAL</th>\n",
              "      <th>INJURIES_FATAL</th>\n",
              "      <th>INJURIES_INCAPACITATING</th>\n",
              "      <th>INJURIES_NON_INCAPACITATING</th>\n",
              "      <th>INJURIES_REPORTED_NOT_EVIDENT</th>\n",
              "      <th>INJURIES_NO_INDICATION</th>\n",
              "      <th>INJURIES_UNKNOWN</th>\n",
              "      <th>CRASH_HOUR</th>\n",
              "      <th>CRASH_DAY_OF_WEEK</th>\n",
              "      <th>CRASH_MONTH</th>\n",
              "      <th>LATITUDE</th>\n",
              "      <th>LONGITUDE</th>\n",
              "      <th>LOCATION</th>\n",
              "    </tr>\n",
              "  </thead>\n",
              "  <tbody>\n",
              "    <tr>\n",
              "      <th>448624</th>\n",
              "      <td>e481dd27bc76e18b9a627f605d6d62c5750bca3311222a...</td>\n",
              "      <td>JD313387</td>\n",
              "      <td>NaN</td>\n",
              "      <td>07/28/2020 04:00:00 PM</td>\n",
              "      <td>30</td>\n",
              "      <td>NO CONTROLS</td>\n",
              "      <td>NO CONTROLS</td>\n",
              "      <td>CLEAR</td>\n",
              "      <td>DAYLIGHT</td>\n",
              "      <td>PARKED MOTOR VEHICLE</td>\n",
              "      <td>ONE-WAY</td>\n",
              "      <td>NaN</td>\n",
              "      <td>STRAIGHT AND LEVEL</td>\n",
              "      <td>DRY</td>\n",
              "      <td>NO DEFECTS</td>\n",
              "      <td>ON SCENE</td>\n",
              "      <td>INJURY AND / OR TOW DUE TO CRASH</td>\n",
              "      <td>0</td>\n",
              "      <td>NaN</td>\n",
              "      <td>NaN</td>\n",
              "      <td>OVER $1,500</td>\n",
              "      <td>07/28/2020 07:19:00 PM</td>\n",
              "      <td>FAILING TO REDUCE SPEED TO AVOID CRASH</td>\n",
              "      <td>FAILING TO REDUCE SPEED TO AVOID CRASH</td>\n",
              "      <td>1553</td>\n",
              "      <td>S</td>\n",
              "      <td>AVERS AVE</td>\n",
              "      <td>1014.0</td>\n",
              "      <td>NaN</td>\n",
              "      <td>NaN</td>\n",
              "      <td>NaN</td>\n",
              "      <td>NaN</td>\n",
              "      <td>NaN</td>\n",
              "      <td>NaN</td>\n",
              "      <td>2</td>\n",
              "      <td>REPORTED, NOT EVIDENT</td>\n",
              "      <td>1.0</td>\n",
              "      <td>0.0</td>\n",
              "      <td>0.0</td>\n",
              "      <td>0.0</td>\n",
              "      <td>1.0</td>\n",
              "      <td>0.0</td>\n",
              "      <td>0.0</td>\n",
              "      <td>16</td>\n",
              "      <td>3</td>\n",
              "      <td>7</td>\n",
              "      <td>41.859162</td>\n",
              "      <td>-87.721164</td>\n",
              "      <td>POINT (-87.721164123424 41.859161813268)</td>\n",
              "    </tr>\n",
              "    <tr>\n",
              "      <th>448625</th>\n",
              "      <td>df74080be8ceeb327edd744a7f34507bc32c3f76a3f00c...</td>\n",
              "      <td>JD314102</td>\n",
              "      <td>NaN</td>\n",
              "      <td>07/29/2020 02:00:00 PM</td>\n",
              "      <td>30</td>\n",
              "      <td>NO CONTROLS</td>\n",
              "      <td>NO CONTROLS</td>\n",
              "      <td>CLEAR</td>\n",
              "      <td>DAYLIGHT</td>\n",
              "      <td>PARKED MOTOR VEHICLE</td>\n",
              "      <td>ONE-WAY</td>\n",
              "      <td>NaN</td>\n",
              "      <td>STRAIGHT AND LEVEL</td>\n",
              "      <td>DRY</td>\n",
              "      <td>NO DEFECTS</td>\n",
              "      <td>ON SCENE</td>\n",
              "      <td>NO INJURY / DRIVE AWAY</td>\n",
              "      <td>0</td>\n",
              "      <td>NaN</td>\n",
              "      <td>Y</td>\n",
              "      <td>$501 - $1,500</td>\n",
              "      <td>07/29/2020 02:16:00 PM</td>\n",
              "      <td>UNABLE TO DETERMINE</td>\n",
              "      <td>NOT APPLICABLE</td>\n",
              "      <td>641</td>\n",
              "      <td>E</td>\n",
              "      <td>49TH ST</td>\n",
              "      <td>223.0</td>\n",
              "      <td>NaN</td>\n",
              "      <td>NaN</td>\n",
              "      <td>NaN</td>\n",
              "      <td>NaN</td>\n",
              "      <td>NaN</td>\n",
              "      <td>NaN</td>\n",
              "      <td>2</td>\n",
              "      <td>NO INDICATION OF INJURY</td>\n",
              "      <td>0.0</td>\n",
              "      <td>0.0</td>\n",
              "      <td>0.0</td>\n",
              "      <td>0.0</td>\n",
              "      <td>0.0</td>\n",
              "      <td>1.0</td>\n",
              "      <td>0.0</td>\n",
              "      <td>14</td>\n",
              "      <td>4</td>\n",
              "      <td>7</td>\n",
              "      <td>41.805737</td>\n",
              "      <td>-87.609784</td>\n",
              "      <td>POINT (-87.609784032292 41.805736682295)</td>\n",
              "    </tr>\n",
              "    <tr>\n",
              "      <th>448626</th>\n",
              "      <td>f2ad41aeabd38b5c073f887c66ba64118d1c8843395d5c...</td>\n",
              "      <td>JD313908</td>\n",
              "      <td>NaN</td>\n",
              "      <td>07/29/2020 10:50:00 AM</td>\n",
              "      <td>30</td>\n",
              "      <td>TRAFFIC SIGNAL</td>\n",
              "      <td>FUNCTIONING PROPERLY</td>\n",
              "      <td>CLEAR</td>\n",
              "      <td>DAYLIGHT</td>\n",
              "      <td>REAR END</td>\n",
              "      <td>DIVIDED - W/MEDIAN (NOT RAISED)</td>\n",
              "      <td>NaN</td>\n",
              "      <td>STRAIGHT AND LEVEL</td>\n",
              "      <td>DRY</td>\n",
              "      <td>NO DEFECTS</td>\n",
              "      <td>NOT ON SCENE (DESK REPORT)</td>\n",
              "      <td>INJURY AND / OR TOW DUE TO CRASH</td>\n",
              "      <td>Y</td>\n",
              "      <td>NaN</td>\n",
              "      <td>NaN</td>\n",
              "      <td>OVER $1,500</td>\n",
              "      <td>07/29/2020 11:51:00 AM</td>\n",
              "      <td>DISTRACTION - OTHER ELECTRONIC DEVICE (NAVIGAT...</td>\n",
              "      <td>NOT APPLICABLE</td>\n",
              "      <td>3198</td>\n",
              "      <td>W</td>\n",
              "      <td>FULLERTON AVE</td>\n",
              "      <td>1413.0</td>\n",
              "      <td>NaN</td>\n",
              "      <td>NaN</td>\n",
              "      <td>NaN</td>\n",
              "      <td>NaN</td>\n",
              "      <td>NaN</td>\n",
              "      <td>NaN</td>\n",
              "      <td>2</td>\n",
              "      <td>REPORTED, NOT EVIDENT</td>\n",
              "      <td>1.0</td>\n",
              "      <td>0.0</td>\n",
              "      <td>0.0</td>\n",
              "      <td>0.0</td>\n",
              "      <td>1.0</td>\n",
              "      <td>2.0</td>\n",
              "      <td>0.0</td>\n",
              "      <td>10</td>\n",
              "      <td>4</td>\n",
              "      <td>7</td>\n",
              "      <td>41.924824</td>\n",
              "      <td>-87.707553</td>\n",
              "      <td>POINT (-87.707552955117 41.924824383756)</td>\n",
              "    </tr>\n",
              "    <tr>\n",
              "      <th>448627</th>\n",
              "      <td>fcc0426860ee85a4e6db60be5572d317452eb63506d0df...</td>\n",
              "      <td>JD314407</td>\n",
              "      <td>NaN</td>\n",
              "      <td>07/29/2020 06:30:00 PM</td>\n",
              "      <td>30</td>\n",
              "      <td>NO CONTROLS</td>\n",
              "      <td>NO CONTROLS</td>\n",
              "      <td>CLEAR</td>\n",
              "      <td>DAYLIGHT</td>\n",
              "      <td>PARKED MOTOR VEHICLE</td>\n",
              "      <td>NOT DIVIDED</td>\n",
              "      <td>NaN</td>\n",
              "      <td>STRAIGHT AND LEVEL</td>\n",
              "      <td>DRY</td>\n",
              "      <td>NO DEFECTS</td>\n",
              "      <td>NOT ON SCENE (DESK REPORT)</td>\n",
              "      <td>NO INJURY / DRIVE AWAY</td>\n",
              "      <td>0</td>\n",
              "      <td>NaN</td>\n",
              "      <td>NaN</td>\n",
              "      <td>$501 - $1,500</td>\n",
              "      <td>07/29/2020 07:32:00 PM</td>\n",
              "      <td>UNABLE TO DETERMINE</td>\n",
              "      <td>UNABLE TO DETERMINE</td>\n",
              "      <td>940</td>\n",
              "      <td>W</td>\n",
              "      <td>WEED ST</td>\n",
              "      <td>1822.0</td>\n",
              "      <td>NaN</td>\n",
              "      <td>NaN</td>\n",
              "      <td>NaN</td>\n",
              "      <td>NaN</td>\n",
              "      <td>NaN</td>\n",
              "      <td>NaN</td>\n",
              "      <td>2</td>\n",
              "      <td>NO INDICATION OF INJURY</td>\n",
              "      <td>0.0</td>\n",
              "      <td>0.0</td>\n",
              "      <td>0.0</td>\n",
              "      <td>0.0</td>\n",
              "      <td>0.0</td>\n",
              "      <td>1.0</td>\n",
              "      <td>0.0</td>\n",
              "      <td>18</td>\n",
              "      <td>4</td>\n",
              "      <td>7</td>\n",
              "      <td>41.909896</td>\n",
              "      <td>-87.652772</td>\n",
              "      <td>POINT (-87.65277243899 41.909895530398)</td>\n",
              "    </tr>\n",
              "    <tr>\n",
              "      <th>448628</th>\n",
              "      <td>f829a8bd9a1afc120ed6720cdb20a22b1a90b81278002b...</td>\n",
              "      <td>JD105771</td>\n",
              "      <td>NaN</td>\n",
              "      <td>01/06/2020 08:30:00 AM</td>\n",
              "      <td>15</td>\n",
              "      <td>NO CONTROLS</td>\n",
              "      <td>NO CONTROLS</td>\n",
              "      <td>CLEAR</td>\n",
              "      <td>DAYLIGHT</td>\n",
              "      <td>ANGLE</td>\n",
              "      <td>ALLEY</td>\n",
              "      <td>NaN</td>\n",
              "      <td>STRAIGHT AND LEVEL</td>\n",
              "      <td>DRY</td>\n",
              "      <td>NO DEFECTS</td>\n",
              "      <td>NOT ON SCENE (DESK REPORT)</td>\n",
              "      <td>NO INJURY / DRIVE AWAY</td>\n",
              "      <td>0</td>\n",
              "      <td>NaN</td>\n",
              "      <td>NaN</td>\n",
              "      <td>$501 - $1,500</td>\n",
              "      <td>01/06/2020 09:30:00 AM</td>\n",
              "      <td>UNABLE TO DETERMINE</td>\n",
              "      <td>UNABLE TO DETERMINE</td>\n",
              "      <td>1305</td>\n",
              "      <td>S</td>\n",
              "      <td>MICHIGAN AVE</td>\n",
              "      <td>132.0</td>\n",
              "      <td>NaN</td>\n",
              "      <td>NaN</td>\n",
              "      <td>NaN</td>\n",
              "      <td>NaN</td>\n",
              "      <td>NaN</td>\n",
              "      <td>NaN</td>\n",
              "      <td>2</td>\n",
              "      <td>NO INDICATION OF INJURY</td>\n",
              "      <td>0.0</td>\n",
              "      <td>0.0</td>\n",
              "      <td>0.0</td>\n",
              "      <td>0.0</td>\n",
              "      <td>0.0</td>\n",
              "      <td>2.0</td>\n",
              "      <td>0.0</td>\n",
              "      <td>8</td>\n",
              "      <td>2</td>\n",
              "      <td>1</td>\n",
              "      <td>41.865595</td>\n",
              "      <td>-87.623964</td>\n",
              "      <td>POINT (-87.62396444716 41.865594951208)</td>\n",
              "    </tr>\n",
              "  </tbody>\n",
              "</table>\n",
              "</div>"
            ],
            "text/plain": [
              "                                          CRASH_RECORD_ID  ...                                  LOCATION\n",
              "448624  e481dd27bc76e18b9a627f605d6d62c5750bca3311222a...  ...  POINT (-87.721164123424 41.859161813268)\n",
              "448625  df74080be8ceeb327edd744a7f34507bc32c3f76a3f00c...  ...  POINT (-87.609784032292 41.805736682295)\n",
              "448626  f2ad41aeabd38b5c073f887c66ba64118d1c8843395d5c...  ...  POINT (-87.707552955117 41.924824383756)\n",
              "448627  fcc0426860ee85a4e6db60be5572d317452eb63506d0df...  ...   POINT (-87.65277243899 41.909895530398)\n",
              "448628  f829a8bd9a1afc120ed6720cdb20a22b1a90b81278002b...  ...   POINT (-87.62396444716 41.865594951208)\n",
              "\n",
              "[5 rows x 49 columns]"
            ]
          },
          "metadata": {
            "tags": []
          },
          "execution_count": 16
        }
      ]
    },
    {
      "cell_type": "markdown",
      "metadata": {
        "id": "-EtYvlpDb8yZ"
      },
      "source": [
        "#Removal of the columns which are not useful\n",
        "Crash_hour, Crash_day_of_week, Crash_month existent déjà dans la colonne: Crash_date.\n",
        "\n",
        "---\n",
        "\n",
        "Location est une melange de latitude et longitude, qui existent déjà dans la colonne: Latitude et longtitude\n",
        " "
      ]
    },
    {
      "cell_type": "code",
      "metadata": {
        "id": "RqbvB8bDYLNC",
        "outputId": "e0eda237-9c51-4ee2-d72d-971e3243e6b3",
        "colab": {
          "base_uri": "https://localhost:8080/"
        }
      },
      "source": [
        "csv = csv.drop(['CRASH_RECORD_ID','RD_NO','CRASH_DATE_EST_I','BEAT_OF_OCCURRENCE',\n",
        "              'PHOTOS_TAKEN_I','STATEMENTS_TAKEN_I','REPORT_TYPE','HIT_AND_RUN_I','DATE_POLICE_NOTIFIED','STREET_NO','STREET_DIRECTION','STREET_NAME'],axis=1)\n",
        "\n",
        "# Removal of the columns that are redundant\n",
        "csv = csv.drop(['CRASH_HOUR', 'CRASH_DAY_OF_WEEK','CRASH_MONTH'],axis=1)\n",
        "csv.columns\n"
      ],
      "execution_count": null,
      "outputs": [
        {
          "output_type": "execute_result",
          "data": {
            "text/plain": [
              "Index(['CRASH_DATE', 'POSTED_SPEED_LIMIT', 'TRAFFIC_CONTROL_DEVICE',\n",
              "       'DEVICE_CONDITION', 'WEATHER_CONDITION', 'LIGHTING_CONDITION',\n",
              "       'FIRST_CRASH_TYPE', 'TRAFFICWAY_TYPE', 'LANE_CNT', 'ALIGNMENT',\n",
              "       'ROADWAY_SURFACE_COND', 'ROAD_DEFECT', 'CRASH_TYPE',\n",
              "       'INTERSECTION_RELATED_I', 'NOT_RIGHT_OF_WAY_I', 'DAMAGE',\n",
              "       'PRIM_CONTRIBUTORY_CAUSE', 'SEC_CONTRIBUTORY_CAUSE', 'DOORING_I',\n",
              "       'WORK_ZONE_I', 'WORK_ZONE_TYPE', 'WORKERS_PRESENT_I', 'NUM_UNITS',\n",
              "       'MOST_SEVERE_INJURY', 'INJURIES_TOTAL', 'INJURIES_FATAL',\n",
              "       'INJURIES_INCAPACITATING', 'INJURIES_NON_INCAPACITATING',\n",
              "       'INJURIES_REPORTED_NOT_EVIDENT', 'INJURIES_NO_INDICATION',\n",
              "       'INJURIES_UNKNOWN', 'LATITUDE', 'LONGITUDE', 'LOCATION'],\n",
              "      dtype='object')"
            ]
          },
          "metadata": {
            "tags": []
          },
          "execution_count": 39
        }
      ]
    },
    {
      "cell_type": "code",
      "metadata": {
        "id": "xlJhqKXVZF6G",
        "outputId": "ff3978d0-56c2-43aa-a59a-ae40b8b2aa27",
        "colab": {
          "base_uri": "https://localhost:8080/",
          "height": 411
        }
      },
      "source": [
        "csv.head()"
      ],
      "execution_count": null,
      "outputs": [
        {
          "output_type": "execute_result",
          "data": {
            "text/html": [
              "<div>\n",
              "<style scoped>\n",
              "    .dataframe tbody tr th:only-of-type {\n",
              "        vertical-align: middle;\n",
              "    }\n",
              "\n",
              "    .dataframe tbody tr th {\n",
              "        vertical-align: top;\n",
              "    }\n",
              "\n",
              "    .dataframe thead th {\n",
              "        text-align: right;\n",
              "    }\n",
              "</style>\n",
              "<table border=\"1\" class=\"dataframe\">\n",
              "  <thead>\n",
              "    <tr style=\"text-align: right;\">\n",
              "      <th></th>\n",
              "      <th>CRASH_DATE</th>\n",
              "      <th>POSTED_SPEED_LIMIT</th>\n",
              "      <th>TRAFFIC_CONTROL_DEVICE</th>\n",
              "      <th>DEVICE_CONDITION</th>\n",
              "      <th>WEATHER_CONDITION</th>\n",
              "      <th>LIGHTING_CONDITION</th>\n",
              "      <th>FIRST_CRASH_TYPE</th>\n",
              "      <th>TRAFFICWAY_TYPE</th>\n",
              "      <th>LANE_CNT</th>\n",
              "      <th>ALIGNMENT</th>\n",
              "      <th>ROADWAY_SURFACE_COND</th>\n",
              "      <th>ROAD_DEFECT</th>\n",
              "      <th>CRASH_TYPE</th>\n",
              "      <th>INTERSECTION_RELATED_I</th>\n",
              "      <th>NOT_RIGHT_OF_WAY_I</th>\n",
              "      <th>DAMAGE</th>\n",
              "      <th>PRIM_CONTRIBUTORY_CAUSE</th>\n",
              "      <th>SEC_CONTRIBUTORY_CAUSE</th>\n",
              "      <th>DOORING_I</th>\n",
              "      <th>WORK_ZONE_I</th>\n",
              "      <th>WORK_ZONE_TYPE</th>\n",
              "      <th>WORKERS_PRESENT_I</th>\n",
              "      <th>NUM_UNITS</th>\n",
              "      <th>MOST_SEVERE_INJURY</th>\n",
              "      <th>INJURIES_TOTAL</th>\n",
              "      <th>INJURIES_FATAL</th>\n",
              "      <th>INJURIES_INCAPACITATING</th>\n",
              "      <th>INJURIES_NON_INCAPACITATING</th>\n",
              "      <th>INJURIES_REPORTED_NOT_EVIDENT</th>\n",
              "      <th>INJURIES_NO_INDICATION</th>\n",
              "      <th>INJURIES_UNKNOWN</th>\n",
              "      <th>LATITUDE</th>\n",
              "      <th>LONGITUDE</th>\n",
              "      <th>LOCATION</th>\n",
              "    </tr>\n",
              "  </thead>\n",
              "  <tbody>\n",
              "    <tr>\n",
              "      <th>0</th>\n",
              "      <td>06/30/2017 04:00:00 PM</td>\n",
              "      <td>35</td>\n",
              "      <td>STOP SIGN/FLASHER</td>\n",
              "      <td>FUNCTIONING PROPERLY</td>\n",
              "      <td>CLEAR</td>\n",
              "      <td>DAYLIGHT</td>\n",
              "      <td>TURNING</td>\n",
              "      <td>NOT DIVIDED</td>\n",
              "      <td>4.0</td>\n",
              "      <td>STRAIGHT AND LEVEL</td>\n",
              "      <td>DRY</td>\n",
              "      <td>NO DEFECTS</td>\n",
              "      <td>INJURY AND / OR TOW DUE TO CRASH</td>\n",
              "      <td>Y</td>\n",
              "      <td>NaN</td>\n",
              "      <td>OVER $1,500</td>\n",
              "      <td>FAILING TO YIELD RIGHT-OF-WAY</td>\n",
              "      <td>NOT APPLICABLE</td>\n",
              "      <td>NaN</td>\n",
              "      <td>NaN</td>\n",
              "      <td>NaN</td>\n",
              "      <td>NaN</td>\n",
              "      <td>2</td>\n",
              "      <td>NO INDICATION OF INJURY</td>\n",
              "      <td>0.0</td>\n",
              "      <td>0.0</td>\n",
              "      <td>0.0</td>\n",
              "      <td>0.0</td>\n",
              "      <td>0.0</td>\n",
              "      <td>3.0</td>\n",
              "      <td>0.0</td>\n",
              "      <td>41.741804</td>\n",
              "      <td>-87.740954</td>\n",
              "      <td>POINT (-87.740953581987 41.741803598989)</td>\n",
              "    </tr>\n",
              "    <tr>\n",
              "      <th>1</th>\n",
              "      <td>03/21/2019 10:50:00 PM</td>\n",
              "      <td>30</td>\n",
              "      <td>TRAFFIC SIGNAL</td>\n",
              "      <td>FUNCTIONING PROPERLY</td>\n",
              "      <td>CLEAR</td>\n",
              "      <td>DARKNESS, LIGHTED ROAD</td>\n",
              "      <td>TURNING</td>\n",
              "      <td>NOT DIVIDED</td>\n",
              "      <td>4.0</td>\n",
              "      <td>STRAIGHT AND LEVEL</td>\n",
              "      <td>DRY</td>\n",
              "      <td>NO DEFECTS</td>\n",
              "      <td>NO INJURY / DRIVE AWAY</td>\n",
              "      <td>Y</td>\n",
              "      <td>NaN</td>\n",
              "      <td>OVER $1,500</td>\n",
              "      <td>UNABLE TO DETERMINE</td>\n",
              "      <td>UNABLE TO DETERMINE</td>\n",
              "      <td>NaN</td>\n",
              "      <td>NaN</td>\n",
              "      <td>NaN</td>\n",
              "      <td>NaN</td>\n",
              "      <td>2</td>\n",
              "      <td>NO INDICATION OF INJURY</td>\n",
              "      <td>0.0</td>\n",
              "      <td>0.0</td>\n",
              "      <td>0.0</td>\n",
              "      <td>0.0</td>\n",
              "      <td>0.0</td>\n",
              "      <td>2.0</td>\n",
              "      <td>0.0</td>\n",
              "      <td>41.741804</td>\n",
              "      <td>-87.740954</td>\n",
              "      <td>POINT (-87.740953581987 41.741803598989)</td>\n",
              "    </tr>\n",
              "    <tr>\n",
              "      <th>2</th>\n",
              "      <td>03/26/2018 02:23:00 PM</td>\n",
              "      <td>35</td>\n",
              "      <td>NO CONTROLS</td>\n",
              "      <td>NO CONTROLS</td>\n",
              "      <td>CLEAR</td>\n",
              "      <td>DAYLIGHT</td>\n",
              "      <td>PARKED MOTOR VEHICLE</td>\n",
              "      <td>NOT DIVIDED</td>\n",
              "      <td>NaN</td>\n",
              "      <td>STRAIGHT AND LEVEL</td>\n",
              "      <td>DRY</td>\n",
              "      <td>NO DEFECTS</td>\n",
              "      <td>NO INJURY / DRIVE AWAY</td>\n",
              "      <td>Y</td>\n",
              "      <td>NaN</td>\n",
              "      <td>$501 - $1,500</td>\n",
              "      <td>UNABLE TO DETERMINE</td>\n",
              "      <td>UNABLE TO DETERMINE</td>\n",
              "      <td>NaN</td>\n",
              "      <td>NaN</td>\n",
              "      <td>NaN</td>\n",
              "      <td>NaN</td>\n",
              "      <td>2</td>\n",
              "      <td>NO INDICATION OF INJURY</td>\n",
              "      <td>0.0</td>\n",
              "      <td>0.0</td>\n",
              "      <td>0.0</td>\n",
              "      <td>0.0</td>\n",
              "      <td>0.0</td>\n",
              "      <td>2.0</td>\n",
              "      <td>0.0</td>\n",
              "      <td>41.953647</td>\n",
              "      <td>-87.732082</td>\n",
              "      <td>POINT (-87.732081736006 41.953646899951)</td>\n",
              "    </tr>\n",
              "    <tr>\n",
              "      <th>3</th>\n",
              "      <td>02/20/2020 04:45:00 PM</td>\n",
              "      <td>35</td>\n",
              "      <td>TRAFFIC SIGNAL</td>\n",
              "      <td>OTHER</td>\n",
              "      <td>CLEAR</td>\n",
              "      <td>DAWN</td>\n",
              "      <td>REAR END</td>\n",
              "      <td>T-INTERSECTION</td>\n",
              "      <td>NaN</td>\n",
              "      <td>STRAIGHT AND LEVEL</td>\n",
              "      <td>DRY</td>\n",
              "      <td>NO DEFECTS</td>\n",
              "      <td>NO INJURY / DRIVE AWAY</td>\n",
              "      <td>Y</td>\n",
              "      <td>NaN</td>\n",
              "      <td>$501 - $1,500</td>\n",
              "      <td>NOT APPLICABLE</td>\n",
              "      <td>NOT APPLICABLE</td>\n",
              "      <td>NaN</td>\n",
              "      <td>NaN</td>\n",
              "      <td>NaN</td>\n",
              "      <td>NaN</td>\n",
              "      <td>2</td>\n",
              "      <td>NO INDICATION OF INJURY</td>\n",
              "      <td>0.0</td>\n",
              "      <td>0.0</td>\n",
              "      <td>0.0</td>\n",
              "      <td>0.0</td>\n",
              "      <td>0.0</td>\n",
              "      <td>2.0</td>\n",
              "      <td>0.0</td>\n",
              "      <td>41.958987</td>\n",
              "      <td>-87.933994</td>\n",
              "      <td>POINT (-87.933993928974 41.958986950953)</td>\n",
              "    </tr>\n",
              "    <tr>\n",
              "      <th>4</th>\n",
              "      <td>08/30/2018 05:45:00 PM</td>\n",
              "      <td>30</td>\n",
              "      <td>TRAFFIC SIGNAL</td>\n",
              "      <td>FUNCTIONING PROPERLY</td>\n",
              "      <td>CLEAR</td>\n",
              "      <td>DAYLIGHT</td>\n",
              "      <td>TURNING</td>\n",
              "      <td>NOT DIVIDED</td>\n",
              "      <td>NaN</td>\n",
              "      <td>STRAIGHT AND LEVEL</td>\n",
              "      <td>DRY</td>\n",
              "      <td>UNKNOWN</td>\n",
              "      <td>NO INJURY / DRIVE AWAY</td>\n",
              "      <td>Y</td>\n",
              "      <td>NaN</td>\n",
              "      <td>OVER $1,500</td>\n",
              "      <td>IMPROPER OVERTAKING/PASSING</td>\n",
              "      <td>IMPROPER LANE USAGE</td>\n",
              "      <td>NaN</td>\n",
              "      <td>NaN</td>\n",
              "      <td>NaN</td>\n",
              "      <td>NaN</td>\n",
              "      <td>2</td>\n",
              "      <td>NO INDICATION OF INJURY</td>\n",
              "      <td>0.0</td>\n",
              "      <td>0.0</td>\n",
              "      <td>0.0</td>\n",
              "      <td>0.0</td>\n",
              "      <td>0.0</td>\n",
              "      <td>2.0</td>\n",
              "      <td>0.0</td>\n",
              "      <td>41.903825</td>\n",
              "      <td>-87.643286</td>\n",
              "      <td>POINT (-87.643286359995 41.903825233976)</td>\n",
              "    </tr>\n",
              "  </tbody>\n",
              "</table>\n",
              "</div>"
            ],
            "text/plain": [
              "               CRASH_DATE  ...                                  LOCATION\n",
              "0  06/30/2017 04:00:00 PM  ...  POINT (-87.740953581987 41.741803598989)\n",
              "1  03/21/2019 10:50:00 PM  ...  POINT (-87.740953581987 41.741803598989)\n",
              "2  03/26/2018 02:23:00 PM  ...  POINT (-87.732081736006 41.953646899951)\n",
              "3  02/20/2020 04:45:00 PM  ...  POINT (-87.933993928974 41.958986950953)\n",
              "4  08/30/2018 05:45:00 PM  ...  POINT (-87.643286359995 41.903825233976)\n",
              "\n",
              "[5 rows x 34 columns]"
            ]
          },
          "metadata": {
            "tags": []
          },
          "execution_count": 18
        }
      ]
    },
    {
      "cell_type": "markdown",
      "metadata": {
        "id": "vYhIM8UOcf31"
      },
      "source": [
        "# Combien de colonnes possedent des valeurs NaN?"
      ]
    },
    {
      "cell_type": "code",
      "metadata": {
        "id": "UpuruGj49Xqe",
        "outputId": "26014b3f-ec22-46ee-cc98-c199c553ea1c",
        "colab": {
          "base_uri": "https://localhost:8080/"
        }
      },
      "source": [
        "csv.isna().any()\n",
        "# la colonne INTERSECTION_RELATED_I est effectivement plein de valeurs nan, pour remplir ces valeurs là, j'avais trouvé un API(application program interface).\n",
        "# okay, tout simplement, je vais expliquer prochainement dans les cellules suivantes (ce serait plus approprié).\n",
        "# j'avais rempli \"yet_to_clean\" to replace nan for our understanding."
      ],
      "execution_count": null,
      "outputs": [
        {
          "output_type": "execute_result",
          "data": {
            "text/plain": [
              "CRASH_DATE                       False\n",
              "POSTED_SPEED_LIMIT               False\n",
              "TRAFFIC_CONTROL_DEVICE           False\n",
              "DEVICE_CONDITION                 False\n",
              "WEATHER_CONDITION                False\n",
              "LIGHTING_CONDITION               False\n",
              "FIRST_CRASH_TYPE                 False\n",
              "TRAFFICWAY_TYPE                  False\n",
              "LANE_CNT                          True\n",
              "ALIGNMENT                        False\n",
              "ROADWAY_SURFACE_COND             False\n",
              "ROAD_DEFECT                      False\n",
              "CRASH_TYPE                       False\n",
              "INTERSECTION_RELATED_I           False\n",
              "NOT_RIGHT_OF_WAY_I                True\n",
              "DAMAGE                           False\n",
              "PRIM_CONTRIBUTORY_CAUSE          False\n",
              "SEC_CONTRIBUTORY_CAUSE           False\n",
              "DOORING_I                         True\n",
              "WORK_ZONE_I                       True\n",
              "WORK_ZONE_TYPE                    True\n",
              "WORKERS_PRESENT_I                 True\n",
              "NUM_UNITS                        False\n",
              "MOST_SEVERE_INJURY                True\n",
              "INJURIES_TOTAL                    True\n",
              "INJURIES_FATAL                    True\n",
              "INJURIES_INCAPACITATING           True\n",
              "INJURIES_NON_INCAPACITATING       True\n",
              "INJURIES_REPORTED_NOT_EVIDENT     True\n",
              "INJURIES_NO_INDICATION            True\n",
              "INJURIES_UNKNOWN                  True\n",
              "LATITUDE                         False\n",
              "LONGITUDE                        False\n",
              "LOCATION                         False\n",
              "dtype: bool"
            ]
          },
          "metadata": {
            "tags": []
          },
          "execution_count": 33
        }
      ]
    },
    {
      "cell_type": "markdown",
      "metadata": {
        "id": "JOMLm2Bgcw-H"
      },
      "source": [
        "#Est-ce que les colonnes possedent des valeurs nan? Does any of the columns hold any nan values?"
      ]
    },
    {
      "cell_type": "code",
      "metadata": {
        "id": "oBJxZg0qkylw",
        "outputId": "68725f88-20b4-41de-92ef-fa2dd0eb481f",
        "colab": {
          "base_uri": "https://localhost:8080/"
        }
      },
      "source": [
        "print('{}% ont des colonnes ont NaN'.format(round(sum(csv.isna().any())/len(csv.columns)*100,2)))\n",
        "# comme vous le voyez ci-dessous, apres l'enlevement, il y a vers 40% de colonnes qui possedent des valeurs nan (la vie serait fou donc je suppose!)"
      ],
      "execution_count": null,
      "outputs": [
        {
          "output_type": "stream",
          "text": [
            "38.24% ont des colonnes ont NaN\n"
          ],
          "name": "stdout"
        }
      ]
    },
    {
      "cell_type": "markdown",
      "metadata": {
        "id": "kT6Dvqvuc3tq"
      },
      "source": [
        "# Quel pourcentage des valeurs sont ***nulles*** dans la colonne LANE_CNT ?"
      ]
    },
    {
      "cell_type": "code",
      "metadata": {
        "id": "RaxPzrmXAMwj",
        "outputId": "19589ce3-6ffa-485a-9170-51e998688c23",
        "colab": {
          "base_uri": "https://localhost:8080/"
        }
      },
      "source": [
        "print(\"{}%\".format(sum(csv['LANE_CNT'].isna())/len(csv) *100))\n",
        "#la colonne Lane_CNT a 56% des valeurs nan, on peut remplir avec moyen valeurs, mais ce n'est pas utile. \n",
        "#en considerant de l'importance de la description de cette colonne et les nombreux des nan valeurs, je vais l'enlever\n",
        "\n",
        "#this feature has around 56% nan values, though we can fill up with values such as mean, this would be futile.\n",
        "\n",
        "#Besides, considering the description of this feature, I feel removing this whole column is the best way possible.\n",
        "csv = csv.drop(['LANE_CNT'],axis=1)"
      ],
      "execution_count": null,
      "outputs": [
        {
          "output_type": "stream",
          "text": [
            "55.85171712038232%\n"
          ],
          "name": "stdout"
        }
      ]
    },
    {
      "cell_type": "code",
      "metadata": {
        "id": "lIbA85OqpbtV",
        "outputId": "ad2797d0-c7bb-4f19-e21c-e5cb6bbbbdf7",
        "colab": {
          "base_uri": "https://localhost:8080/"
        }
      },
      "source": [
        "#sanity check\n",
        "csv.columns"
      ],
      "execution_count": null,
      "outputs": [
        {
          "output_type": "execute_result",
          "data": {
            "text/plain": [
              "Index(['CRASH_DATE', 'POSTED_SPEED_LIMIT', 'TRAFFIC_CONTROL_DEVICE',\n",
              "       'DEVICE_CONDITION', 'WEATHER_CONDITION', 'LIGHTING_CONDITION',\n",
              "       'FIRST_CRASH_TYPE', 'TRAFFICWAY_TYPE', 'ALIGNMENT',\n",
              "       'ROADWAY_SURFACE_COND', 'ROAD_DEFECT', 'CRASH_TYPE',\n",
              "       'INTERSECTION_RELATED_I', 'NOT_RIGHT_OF_WAY_I', 'DAMAGE',\n",
              "       'PRIM_CONTRIBUTORY_CAUSE', 'SEC_CONTRIBUTORY_CAUSE', 'DOORING_I',\n",
              "       'WORK_ZONE_I', 'WORK_ZONE_TYPE', 'WORKERS_PRESENT_I', 'NUM_UNITS',\n",
              "       'MOST_SEVERE_INJURY', 'INJURIES_TOTAL', 'INJURIES_FATAL',\n",
              "       'INJURIES_INCAPACITATING', 'INJURIES_NON_INCAPACITATING',\n",
              "       'INJURIES_REPORTED_NOT_EVIDENT', 'INJURIES_NO_INDICATION',\n",
              "       'INJURIES_UNKNOWN', 'LATITUDE', 'LONGITUDE', 'LOCATION'],\n",
              "      dtype='object')"
            ]
          },
          "metadata": {
            "tags": []
          },
          "execution_count": 43
        }
      ]
    },
    {
      "cell_type": "markdown",
      "metadata": {
        "id": "bwZ9_0U4dxHL"
      },
      "source": [
        "#De meme, quel est le ***ratio*** de NaN et les valeurs ?"
      ]
    },
    {
      "cell_type": "markdown",
      "metadata": {
        "id": "HfazLOMccH1U"
      },
      "source": [
        "**Important**: The csv I mount from Google Drive is after executing the code below, why ? I would have explained in the upcoming cells. Check it out. Key Takeaway: the 2441 cells dont have a value in the latitude column."
      ]
    },
    {
      "cell_type": "code",
      "metadata": {
        "id": "sNI6kQRTONxn",
        "outputId": "ef883d2e-e5c6-4ea7-90c1-5e8703db1966",
        "colab": {
          "base_uri": "https://localhost:8080/"
        }
      },
      "source": [
        "print(sum(csv['LATITUDE'].isna()))\n",
        "print('The {}% of cells do not have values'.format(sum(csv['LATITUDE'].isna())/len(csv)*100))\n",
        "# 2441 cells dont have a value, that approx. less than 1 percent of total dataset size, removing is an option, why am I removing? 2 obvious reasons:\n",
        "# 1 percent is too small and the location is the most important piece of data!\n",
        "\n",
        "\n",
        "# the code below is a bit hard to interpret? hear me out: firstly we find where are the null values are being spotted, locate on the dataframe with iloc, get its index then drop it finally.\n",
        "csv = csv.drop(csv.iloc[((np.where(csv['LATITUDE'].isna().values==True)))].index)\n",
        "# as the rows are dropped the index would indeed be disorganised, fixing that with reset_index\n",
        "csv = csv.reset_index()"
      ],
      "execution_count": null,
      "outputs": [
        {
          "output_type": "stream",
          "text": [
            "0\n",
            "The 0.0% of cells do not have values\n"
          ],
          "name": "stdout"
        }
      ]
    },
    {
      "cell_type": "code",
      "metadata": {
        "id": "eIj2h3FATRHe",
        "outputId": "8f806dd9-4821-481b-8f26-2deea99ed7cb",
        "colab": {
          "base_uri": "https://localhost:8080/"
        }
      },
      "source": [
        "# sanity check\n",
        "sum(csv['LATITUDE'].isna().values)"
      ],
      "execution_count": null,
      "outputs": [
        {
          "output_type": "execute_result",
          "data": {
            "text/plain": [
              "0"
            ]
          },
          "metadata": {
            "tags": []
          },
          "execution_count": 48
        }
      ]
    },
    {
      "cell_type": "markdown",
      "metadata": {
        "id": "0s8_lVrKec0L"
      },
      "source": [
        "#A propos de ***gestion*** des valeurs manquant dans la colonne 'INTERSECTION_RELATED_I'."
      ]
    },
    {
      "cell_type": "code",
      "metadata": {
        "id": "97K8RnvplgXx",
        "outputId": "e710c09f-9aec-4696-84d5-0c2eba4db7a1",
        "colab": {
          "base_uri": "https://localhost:8080/"
        }
      },
      "source": [
        "print('{}% of values are null'.format(round(sum(csv['INTERSECTION_RELATED_I'].isna())/len(csv)*100),2))\n",
        "# Road intersection is one of the extremely important criteria, but there more than 78% null values!. Crazy indeed. Challenging & Interesting task. \n",
        "# Note : The result below would be 0%. That is because of the fact that I filled with \"yet_to_fill\" for monitoring where I left off.\n",
        "# Must not be dropped and cannot be filled randomly. So what ?\n",
        "\n",
        "# Now it is the time to explain how I handle the missing values in INTERSECTION_SECTION_I. \n",
        "\n",
        "# After couple of hours of research I found out a nice website geonames.org, which provide the solution to address the problem\n",
        "# which problem?!: handling the missing data (categorical) related to intersection of the road where the accident took place nearby.\n",
        "# How does this website help?: this helps in identifying whether there is any intersection close by(100 meters I believe) using the coordinates.\n",
        "# How to do it? they provide a web-based solution to find that. So that is basically a web scraping to find out the result given the coordinates.\n",
        "# How to web-scrap it? Beautifulsoup. "
      ],
      "execution_count": null,
      "outputs": [
        {
          "output_type": "stream",
          "text": [
            "0% of values are null\n"
          ],
          "name": "stdout"
        }
      ]
    },
    {
      "cell_type": "markdown",
      "metadata": {
        "id": "J4WrDycNgG4w"
      },
      "source": [
        "# Here me out the complex part. Modus-operandi: \n"
      ]
    },
    {
      "cell_type": "markdown",
      "metadata": {
        "id": "W7pcpRPChaOx"
      },
      "source": [
        "# 1. I repeat. The goal is to find out whether the INTERESECTION_RELATED is true or not, so what do we need? the coordinates. There is no point in finding the result when there is already data. So I take only the coordinates only when the INTERESECTION_RELATED is NaN. Combine the latitude and longitude.\n",
        "# 2. Make URLs out of the coordinates.\n",
        "# 3. Pass it as http request the each URLs\n",
        "# 4. Parse the http response.\n",
        "# 5. Look for whether there is any data related to intersection, fill 'Y' if yes, fill 'N' if no.\n",
        "\n",
        "\n",
        "\n",
        "The caveat of this approach:\n",
        "1. There are limitations such as, restriction on the number of request i.e 1000/hour. Meaning, the api automatically throws out an error message when we exceed 1000 INTERESECTION_RELATED cells. Indeed, it is not feasible if it is the case. I have started finding out work-around. Will update.\n",
        "2. Problem on execution time: parsing is half a problem but the rest is on Colab. Why though? simply put, the code we run firstly go to Colab server then  as url (request), so it takes a considerable amount of time. Cleaning on a local machine is the best option, so I took this route. To make you aware of what is the code, I have provided the code below. "
      ]
    },
    {
      "cell_type": "code",
      "metadata": {
        "id": "XbgddGK8lvIz"
      },
      "source": [
        "#filling of missing data\n",
        "csv['INTERSECTION_RELATED_I'] = csv['INTERSECTION_RELATED_I'].fillna(0)"
      ],
      "execution_count": null,
      "outputs": []
    },
    {
      "cell_type": "code",
      "metadata": {
        "id": "wn9tGl8oIp8l"
      },
      "source": [
        "nan_index = np.where(csv['INTERSECTION_RELATED_I'].values==0)"
      ],
      "execution_count": null,
      "outputs": []
    },
    {
      "cell_type": "code",
      "metadata": {
        "id": "4NVzpzlly9BD"
      },
      "source": [
        "def webscraping(latitude,longitude):\n",
        "    a = \"http://api.geonames.org/findNearestIntersection?lat={}&lng={}&username=venk\".format(latitude,longitude)\n",
        "\n",
        "    page = requests.get(a)\n",
        "    bsp = BeautifulSoup(page.content,'html.parser')\n",
        "    return bsp.prettify().split()[6]=='<intersection>'\n"
      ],
      "execution_count": null,
      "outputs": []
    },
    {
      "cell_type": "code",
      "metadata": {
        "id": "gUow15Yrzsi5"
      },
      "source": [
        "%%time\n",
        "mm =[]\n",
        "for i in range(10):\n",
        "  \n",
        "  csv['INTERSECTION_RELATED_I'].iloc[nan_index[0][i]]=(webscraping(csv['LATITUDE'][i],csv['LONGITUDE'][i]))\n",
        "  "
      ],
      "execution_count": null,
      "outputs": []
    }
  ]
}