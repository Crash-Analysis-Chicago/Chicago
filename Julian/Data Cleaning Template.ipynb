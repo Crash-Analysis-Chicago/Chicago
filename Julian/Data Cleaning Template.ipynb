{
 "cells": [
  {
   "cell_type": "code",
   "execution_count": 2,
   "metadata": {},
   "outputs": [],
   "source": [
    "import pandas as pd\n",
    "import matplotlib.pyplot as plt\n",
    "import seaborn as sns\n",
    "pd.set_option('display.max_columns', None)\n",
    "#pd.set_option('display.max_rows', None) #int or None = all"
   ]
  },
  {
   "cell_type": "markdown",
   "metadata": {},
   "source": [
    "### Cleaning and Formatting"
   ]
  },
  {
   "cell_type": "code",
   "execution_count": null,
   "metadata": {},
   "outputs": [],
   "source": [
    "data = pd.read_csv('[FILENAME]',encoding='iso-8859-1',\\\n",
    "                   delimiter=\";\",error_bad_lines=False)"
   ]
  },
  {
   "cell_type": "code",
   "execution_count": null,
   "metadata": {},
   "outputs": [],
   "source": [
    "#drop columns index or name based\n",
    "data.drop(data.columns[INDEX], axis = 1, inplace = True)\n",
    "data.drop(labels=['COLNAME1', 'COLNAME2'], axis = 1, inplace = True)"
   ]
  },
  {
   "cell_type": "code",
   "execution_count": null,
   "metadata": {},
   "outputs": [],
   "source": [
    "data.duplicated(keep=False, subset=['COLNAME1'])#return bool series\n",
    "data.drop_duplicated(keep=first, subset=['COLNAME1'], inplace True)\n",
    "# keep: first(keep first occurence discard following), false(keep none), last(keep last occurence discard previous)"
   ]
  },
  {
   "cell_type": "code",
   "execution_count": null,
   "metadata": {},
   "outputs": [],
   "source": [
    "#convert , to . in not properly formatted data\n",
    "for column in ['COLNAME1', 'COLNAME2']:\n",
    "        data[column] = data[column].apply(lambda x: float(x.split()[0].replace(',', '.')))"
   ]
  },
  {
   "cell_type": "code",
   "execution_count": null,
   "metadata": {},
   "outputs": [],
   "source": [
    "#convert type: object (string or mixed), int64, float64, bool\n",
    "data = data.astype({'COLNAME1': 'TYPE', 'COLNAME2': 'TYPE' })\n",
    "FRAME.dtypes"
   ]
  },
  {
   "cell_type": "code",
   "execution_count": null,
   "metadata": {},
   "outputs": [],
   "source": [
    "#rename columns\n",
    "data.rename(columns={'COLNAME1_OLD': 'COLNAME1_NEW', 'COLNAME2_OLD': 'COLNAME2_NEW' }, inplace=True)\n"
   ]
  },
  {
   "cell_type": "code",
   "execution_count": null,
   "metadata": {},
   "outputs": [],
   "source": [
    "#Convert data to_datetime \n",
    "data['CRASH_DATE'] = pd.to_datetime(data['CRASH_DATE']) #, format='%m/%d/%Y %I:%M:%S %p'\n",
    "#Create days, hour, months\n",
    "data['CRASH_WEEKDAY'] = data['CRASH_DATE'].dt.dayofweek\n",
    "data['CRASH_HOUR'] = data['CRASH_DATE'].dt.hour\n",
    "data['CRASH_Month'] = data['CRASH_DATE'].dt.month\n",
    "\n",
    "dfdb = pd.read_csv('trafficaerien.csv',parse_dates=['Month'],sep=';')"
   ]
  },
  {
   "cell_type": "markdown",
   "metadata": {},
   "source": [
    "### Basic Description"
   ]
  },
  {
   "cell_type": "code",
   "execution_count": 4,
   "metadata": {},
   "outputs": [
    {
     "ename": "NameError",
     "evalue": "name 'FRAME' is not defined",
     "output_type": "error",
     "traceback": [
      "\u001b[0;31m---------------------------------------------------------------------------\u001b[0m",
      "\u001b[0;31mNameError\u001b[0m                                 Traceback (most recent call last)",
      "\u001b[0;32m<ipython-input-4-0637ae541984>\u001b[0m in \u001b[0;36m<module>\u001b[0;34m\u001b[0m\n\u001b[1;32m      1\u001b[0m \u001b[0;31m#see data\u001b[0m\u001b[0;34m\u001b[0m\u001b[0;34m\u001b[0m\u001b[0;34m\u001b[0m\u001b[0m\n\u001b[0;32m----> 2\u001b[0;31m \u001b[0mFRAME\u001b[0m\u001b[0;34m.\u001b[0m\u001b[0mhead\u001b[0m\u001b[0;34m(\u001b[0m\u001b[0;34m)\u001b[0m\u001b[0;34m\u001b[0m\u001b[0;34m\u001b[0m\u001b[0m\n\u001b[0m",
      "\u001b[0;31mNameError\u001b[0m: name 'FRAME' is not defined"
     ]
    }
   ],
   "source": [
    "#see data\n",
    "data.head()\n",
    "data.describe()\n",
    "data.COLNAME.describe()"
   ]
  },
  {
   "cell_type": "markdown",
   "metadata": {},
   "source": [
    "### Corelation & Pairplot"
   ]
  },
  {
   "cell_type": "code",
   "execution_count": 6,
   "metadata": {
    "collapsed": true
   },
   "outputs": [
    {
     "ename": "NameError",
     "evalue": "name 'FRAME' is not defined",
     "output_type": "error",
     "traceback": [
      "\u001b[0;31m---------------------------------------------------------------------------\u001b[0m",
      "\u001b[0;31mNameError\u001b[0m                                 Traceback (most recent call last)",
      "\u001b[0;32m<ipython-input-6-b3bded22490e>\u001b[0m in \u001b[0;36m<module>\u001b[0;34m\u001b[0m\n\u001b[1;32m      1\u001b[0m \u001b[0;31m#Correlation: object type will be neglected\u001b[0m\u001b[0;34m\u001b[0m\u001b[0;34m\u001b[0m\u001b[0;34m\u001b[0m\u001b[0m\n\u001b[0;32m----> 2\u001b[0;31m \u001b[0mFRAME\u001b[0m\u001b[0;34m.\u001b[0m\u001b[0mcorr\u001b[0m\u001b[0;34m(\u001b[0m\u001b[0;34m)\u001b[0m \u001b[0;31m#numerical table\u001b[0m\u001b[0;34m\u001b[0m\u001b[0;34m\u001b[0m\u001b[0m\n\u001b[0m",
      "\u001b[0;31mNameError\u001b[0m: name 'FRAME' is not defined"
     ]
    }
   ],
   "source": [
    "#Correlation: object type will be neglected\n",
    "data.corr() #numerical table\n",
    "\n",
    "pd.plotting.scatter_matrix(data, figsize=(20,20)) #nice plots\n",
    "plt.show()\n",
    "\n",
    "sns.pairplot(data)"
   ]
  },
  {
   "cell_type": "markdown",
   "metadata": {},
   "source": [
    "### Transforms"
   ]
  },
  {
   "cell_type": "code",
   "execution_count": 7,
   "metadata": {},
   "outputs": [],
   "source": [
    "#create new column based on other ones\n",
    "def CUSTOM_FUNC(row, args):\n",
    "    return CALCULATION\n",
    "\n",
    "data['NEW_COL']=data.apply(CUSTOM_FUNC(args), axis=1)#the row itself is automatically passed to CUSTOM_FUNC -> in apply args one fewer argument\n",
    "data['NEW_COL']=data.apply(lambda row: row.COL1 * row.COL2, axis=1)"
   ]
  },
  {
   "cell_type": "markdown",
   "metadata": {},
   "source": [
    "### Visualisation"
   ]
  },
  {
   "cell_type": "code",
   "execution_count": null,
   "metadata": {},
   "outputs": [],
   "source": [
    "#subplots\n",
    "f, ax = plt.subplots(ROWS,COLUMNS)#(2,2)-> 4 plots\n",
    "sns.hisplot(data['COLNAME1'], ax=ax[0][0])#top left\n",
    "data['COLNAME1'].hist(bins=50, ax=ax[0][1])#top right\n",
    "ax[0][0].set_title('some nice title')"
   ]
  },
  {
   "cell_type": "code",
   "execution_count": null,
   "metadata": {},
   "outputs": [],
   "source": [
    "#heatmap of missing values\n",
    "colours = ['HEX1', 'HEX2']\n",
    "sns.heatmap(data[data.columns].isnull(), cmap=sns.color_palette(colours))"
   ]
  },
  {
   "cell_type": "code",
   "execution_count": null,
   "metadata": {},
   "outputs": [],
   "source": [
    "#histogram of column\n",
    "data['COLNAME1'].hist(bins=50)\n",
    "sns.histplot(data['COLNAME1'])"
   ]
  },
  {
   "cell_type": "code",
   "execution_count": null,
   "metadata": {},
   "outputs": [],
   "source": [
    "#boxplot of column\n",
    "data.boxplot(column=['COLNAME1'])\n",
    "sns.boxplot(data['COLNAME1'])"
   ]
  },
  {
   "cell_type": "code",
   "execution_count": null,
   "metadata": {},
   "outputs": [],
   "source": [
    "#boxplot with 2 variables -> two boxplots for x-var shown on y-axis var (y-axis var continous)\n",
    "sns.boxplot(x=data['COLNAME1'], y=data['COLLNAME2'])\n",
    "\n",
    "#boxplot with 3 variables\n",
    "sns.boxplot(x=data['COLNAME1'], y=data['COLLNAME2'], hue=)"
   ]
  },
  {
   "cell_type": "code",
   "execution_count": null,
   "metadata": {},
   "outputs": [],
   "source": [
    "#countplot, show distribution per variable\n",
    "for i, col in enumerate(data.columns):\n",
    "    plt.figure(i)\n",
    "    sns.countplot(x=col, data=data)\n",
    "    \n",
    "#with additional variable\n",
    "sns.countplot(x='COLNAME1', hue='COLNAME2', data=data)"
   ]
  },
  {
   "cell_type": "code",
   "execution_count": null,
   "metadata": {},
   "outputs": [],
   "source": []
  },
  {
   "cell_type": "code",
   "execution_count": null,
   "metadata": {},
   "outputs": [],
   "source": [
    "C_mat = train_data.corr()\n",
    "sb.heatmap(C_mat, vmax = .8, square = True)"
   ]
  },
  {
   "cell_type": "code",
   "execution_count": null,
   "metadata": {},
   "outputs": [],
   "source": [
    "#use custom frames in data loaders for pytorch\n",
    "#from pandas\n",
    "X_train = torch.tensor(X_train.values).double()\n",
    "\n",
    "#from numpy\n",
    "X = torch.from_numpy(X).double()\n",
    "y = torch.from_numpy(y).double()\n",
    "\n",
    "train_data = torch.utils.data.TensorDataset(X, y)\n",
    "train_loader = torch.utils.data.DataLoader(train_data, batch_size=batch_size, shuffle=True)\n",
    "\n",
    "X = Variable(X).float()\n",
    "y = Variable(y).type(torch.LongTensor)"
   ]
  },
  {
   "cell_type": "code",
   "execution_count": null,
   "metadata": {},
   "outputs": [],
   "source": []
  },
  {
   "cell_type": "code",
   "execution_count": null,
   "metadata": {},
   "outputs": [],
   "source": [
    " data.groupby(['grid_32']).agg(['count', 'mean'])"
   ]
  },
  {
   "cell_type": "code",
   "execution_count": null,
   "metadata": {},
   "outputs": [],
   "source": [
    " grid_version.plot(kind='hist', bins=50,\\\n",
    "                      title='Number of acidents per cell in version:{}'.format(grid))"
   ]
  },
  {
   "cell_type": "code",
   "execution_count": null,
   "metadata": {},
   "outputs": [],
   "source": [
    "grid_version.std()\n",
    "data.groupby(['{}'.format(grid)]).size()"
   ]
  },
  {
   "cell_type": "code",
   "execution_count": 1,
   "metadata": {},
   "outputs": [
    {
     "ename": "NameError",
     "evalue": "name 'df' is not defined",
     "output_type": "error",
     "traceback": [
      "\u001b[0;31m---------------------------------------------------------------------------\u001b[0m",
      "\u001b[0;31mNameError\u001b[0m                                 Traceback (most recent call last)",
      "\u001b[0;32m<ipython-input-1-e960ff7c3d0f>\u001b[0m in \u001b[0;36m<module>\u001b[0;34m\u001b[0m\n\u001b[0;32m----> 1\u001b[0;31m \u001b[0mdf\u001b[0m\u001b[0;34m.\u001b[0m\u001b[0mloc\u001b[0m\u001b[0;34m[\u001b[0m\u001b[0mdf\u001b[0m\u001b[0;34m[\u001b[0m\u001b[0;34m'column_name'\u001b[0m\u001b[0;34m]\u001b[0m \u001b[0;34m!=\u001b[0m \u001b[0msome_value\u001b[0m\u001b[0;34m]\u001b[0m\u001b[0;34m\u001b[0m\u001b[0;34m\u001b[0m\u001b[0m\n\u001b[0m\u001b[1;32m      2\u001b[0m \u001b[0mdf\u001b[0m\u001b[0;34m.\u001b[0m\u001b[0mloc\u001b[0m\u001b[0;34m[\u001b[0m\u001b[0;34m~\u001b[0m\u001b[0mdf\u001b[0m\u001b[0;34m[\u001b[0m\u001b[0;34m'column_name'\u001b[0m\u001b[0;34m]\u001b[0m\u001b[0;34m.\u001b[0m\u001b[0misin\u001b[0m\u001b[0;34m(\u001b[0m\u001b[0msome_values\u001b[0m\u001b[0;34m)\u001b[0m\u001b[0;34m]\u001b[0m\u001b[0;34m\u001b[0m\u001b[0;34m\u001b[0m\u001b[0m\n\u001b[1;32m      3\u001b[0m \u001b[0;34m\":.2f\"\u001b[0m\u001b[0;34m.\u001b[0m\u001b[0mformat\u001b[0m\u001b[0;34m(\u001b[0m\u001b[0ma\u001b[0m\u001b[0;34m)\u001b[0m\u001b[0;31m#two decimal places\u001b[0m\u001b[0;34m\u001b[0m\u001b[0;34m\u001b[0m\u001b[0m\n",
      "\u001b[0;31mNameError\u001b[0m: name 'df' is not defined"
     ]
    }
   ],
   "source": [
    "df.loc[df['column_name'] != some_value]\n",
    "df.loc[~df['column_name'].isin(some_values)]\n",
    "\":.2f\".format(a)#two decimal places"
   ]
  },
  {
   "cell_type": "code",
   "execution_count": null,
   "metadata": {},
   "outputs": [],
   "source": []
  }
 ],
 "metadata": {
  "kernelspec": {
   "display_name": "Python 3",
   "language": "python",
   "name": "python3"
  },
  "language_info": {
   "codemirror_mode": {
    "name": "ipython",
    "version": 3
   },
   "file_extension": ".py",
   "mimetype": "text/x-python",
   "name": "python",
   "nbconvert_exporter": "python",
   "pygments_lexer": "ipython3",
   "version": "3.8.5"
  }
 },
 "nbformat": 4,
 "nbformat_minor": 4
}